{
 "cells": [
  {
   "cell_type": "markdown",
   "metadata": {},
   "source": [
    "# To Predict Restaurant Food Cost"
   ]
  },
  {
   "cell_type": "code",
   "execution_count": 1,
   "metadata": {},
   "outputs": [],
   "source": [
    "#Importing necessary libraries\n",
    "import pandas as pd\n",
    "import numpy as np\n",
    "import matplotlib.pyplot as plt\n",
    "import seaborn as sns\n",
    "import warnings\n",
    "warnings.filterwarnings('ignore')"
   ]
  },
  {
   "cell_type": "code",
   "execution_count": 2,
   "metadata": {},
   "outputs": [],
   "source": [
    "#loading train and test dataset\n",
    "train=pd.read_excel('C:/Users/Hp/Desktop/Participants_Data_Final/Data_Train.xlsx')\n",
    "test=pd.read_excel('C:/Users/Hp/Desktop/Participants_Data_Final/Data_Test.xlsx')"
   ]
  },
  {
   "cell_type": "code",
   "execution_count": 3,
   "metadata": {},
   "outputs": [
    {
     "data": {
      "text/plain": [
       "((12690, 9), (4231, 8))"
      ]
     },
     "execution_count": 3,
     "metadata": {},
     "output_type": "execute_result"
    }
   ],
   "source": [
    "#checking the shape of a dataset\n",
    "train.shape, test.shape"
   ]
  },
  {
   "cell_type": "code",
   "execution_count": 4,
   "metadata": {},
   "outputs": [
    {
     "data": {
      "text/plain": [
       "(TITLE            object\n",
       " RESTAURANT_ID     int64\n",
       " CUISINES         object\n",
       " TIME             object\n",
       " CITY             object\n",
       " LOCALITY         object\n",
       " RATING           object\n",
       " VOTES            object\n",
       " COST              int64\n",
       " dtype: object,\n",
       " TITLE            object\n",
       " RESTAURANT_ID     int64\n",
       " CUISINES         object\n",
       " TIME             object\n",
       " CITY             object\n",
       " LOCALITY         object\n",
       " RATING           object\n",
       " VOTES            object\n",
       " dtype: object)"
      ]
     },
     "execution_count": 4,
     "metadata": {},
     "output_type": "execute_result"
    }
   ],
   "source": [
    "#checking data type\n",
    "train.dtypes, test.dtypes"
   ]
  },
  {
   "cell_type": "markdown",
   "metadata": {},
   "source": [
    "all are object data type except ID"
   ]
  },
  {
   "cell_type": "code",
   "execution_count": 5,
   "metadata": {},
   "outputs": [
    {
     "data": {
      "text/html": [
       "<div>\n",
       "<style scoped>\n",
       "    .dataframe tbody tr th:only-of-type {\n",
       "        vertical-align: middle;\n",
       "    }\n",
       "\n",
       "    .dataframe tbody tr th {\n",
       "        vertical-align: top;\n",
       "    }\n",
       "\n",
       "    .dataframe thead th {\n",
       "        text-align: right;\n",
       "    }\n",
       "</style>\n",
       "<table border=\"1\" class=\"dataframe\">\n",
       "  <thead>\n",
       "    <tr style=\"text-align: right;\">\n",
       "      <th></th>\n",
       "      <th>TITLE</th>\n",
       "      <th>RESTAURANT_ID</th>\n",
       "      <th>CUISINES</th>\n",
       "      <th>TIME</th>\n",
       "      <th>CITY</th>\n",
       "      <th>LOCALITY</th>\n",
       "      <th>RATING</th>\n",
       "      <th>VOTES</th>\n",
       "      <th>COST</th>\n",
       "    </tr>\n",
       "  </thead>\n",
       "  <tbody>\n",
       "    <tr>\n",
       "      <th>0</th>\n",
       "      <td>CASUAL DINING</td>\n",
       "      <td>9438</td>\n",
       "      <td>Malwani, Goan, North Indian</td>\n",
       "      <td>11am – 4pm, 7:30pm – 11:30pm (Mon-Sun)</td>\n",
       "      <td>Thane</td>\n",
       "      <td>Dombivali East</td>\n",
       "      <td>3.6</td>\n",
       "      <td>49 votes</td>\n",
       "      <td>1200</td>\n",
       "    </tr>\n",
       "    <tr>\n",
       "      <th>1</th>\n",
       "      <td>CASUAL DINING,BAR</td>\n",
       "      <td>13198</td>\n",
       "      <td>Asian, Modern Indian, Japanese</td>\n",
       "      <td>6pm – 11pm (Mon-Sun)</td>\n",
       "      <td>Chennai</td>\n",
       "      <td>Ramapuram</td>\n",
       "      <td>4.2</td>\n",
       "      <td>30 votes</td>\n",
       "      <td>1500</td>\n",
       "    </tr>\n",
       "    <tr>\n",
       "      <th>2</th>\n",
       "      <td>CASUAL DINING</td>\n",
       "      <td>10915</td>\n",
       "      <td>North Indian, Chinese, Biryani, Hyderabadi</td>\n",
       "      <td>11am – 3:30pm, 7pm – 11pm (Mon-Sun)</td>\n",
       "      <td>Chennai</td>\n",
       "      <td>Saligramam</td>\n",
       "      <td>3.8</td>\n",
       "      <td>221 votes</td>\n",
       "      <td>800</td>\n",
       "    </tr>\n",
       "    <tr>\n",
       "      <th>3</th>\n",
       "      <td>QUICK BITES</td>\n",
       "      <td>6346</td>\n",
       "      <td>Tibetan, Chinese</td>\n",
       "      <td>11:30am – 1am (Mon-Sun)</td>\n",
       "      <td>Mumbai</td>\n",
       "      <td>Bandra West</td>\n",
       "      <td>4.1</td>\n",
       "      <td>24 votes</td>\n",
       "      <td>800</td>\n",
       "    </tr>\n",
       "    <tr>\n",
       "      <th>4</th>\n",
       "      <td>DESSERT PARLOR</td>\n",
       "      <td>15387</td>\n",
       "      <td>Desserts</td>\n",
       "      <td>11am – 1am (Mon-Sun)</td>\n",
       "      <td>Mumbai</td>\n",
       "      <td>Lower Parel</td>\n",
       "      <td>3.8</td>\n",
       "      <td>165 votes</td>\n",
       "      <td>300</td>\n",
       "    </tr>\n",
       "  </tbody>\n",
       "</table>\n",
       "</div>"
      ],
      "text/plain": [
       "               TITLE  RESTAURANT_ID  \\\n",
       "0      CASUAL DINING           9438   \n",
       "1  CASUAL DINING,BAR          13198   \n",
       "2      CASUAL DINING          10915   \n",
       "3        QUICK BITES           6346   \n",
       "4     DESSERT PARLOR          15387   \n",
       "\n",
       "                                     CUISINES  \\\n",
       "0                 Malwani, Goan, North Indian   \n",
       "1              Asian, Modern Indian, Japanese   \n",
       "2  North Indian, Chinese, Biryani, Hyderabadi   \n",
       "3                            Tibetan, Chinese   \n",
       "4                                    Desserts   \n",
       "\n",
       "                                     TIME     CITY        LOCALITY RATING  \\\n",
       "0  11am – 4pm, 7:30pm – 11:30pm (Mon-Sun)    Thane  Dombivali East    3.6   \n",
       "1                    6pm – 11pm (Mon-Sun)  Chennai       Ramapuram    4.2   \n",
       "2     11am – 3:30pm, 7pm – 11pm (Mon-Sun)  Chennai      Saligramam    3.8   \n",
       "3                 11:30am – 1am (Mon-Sun)   Mumbai     Bandra West    4.1   \n",
       "4                    11am – 1am (Mon-Sun)   Mumbai     Lower Parel    3.8   \n",
       "\n",
       "       VOTES  COST  \n",
       "0   49 votes  1200  \n",
       "1   30 votes  1500  \n",
       "2  221 votes   800  \n",
       "3   24 votes   800  \n",
       "4  165 votes   300  "
      ]
     },
     "execution_count": 5,
     "metadata": {},
     "output_type": "execute_result"
    }
   ],
   "source": [
    "train.head()"
   ]
  },
  {
   "cell_type": "code",
   "execution_count": 6,
   "metadata": {},
   "outputs": [
    {
     "data": {
      "text/plain": [
       "Index(['TITLE', 'RESTAURANT_ID', 'CUISINES', 'TIME', 'CITY', 'LOCALITY',\n",
       "       'RATING', 'VOTES', 'COST'],\n",
       "      dtype='object')"
      ]
     },
     "execution_count": 6,
     "metadata": {},
     "output_type": "execute_result"
    }
   ],
   "source": [
    "#checking columns\n",
    "train.columns"
   ]
  },
  {
   "cell_type": "code",
   "execution_count": 7,
   "metadata": {},
   "outputs": [],
   "source": [
    "#renaming columns for easy handling\n",
    "train.rename(columns={'TITLE':'title', 'RESTAURANT_ID':'restaurant_id', 'CUISINES':'cuisines', 'TIME':'time', 'CITY':'city', 'LOCALITY':'locality',\n",
    "       'RATING':'rating', 'VOTES':'votes', 'COST':'cost'},inplace=True)\n",
    "test.rename(columns={'TITLE':'title', 'RESTAURANT_ID':'restaurant_id', 'CUISINES':'cuisines', 'TIME':'time', 'CITY':'city', 'LOCALITY':'locality',\n",
    "       'RATING':'rating', 'VOTES':'votes'},inplace=True)"
   ]
  },
  {
   "cell_type": "code",
   "execution_count": 8,
   "metadata": {},
   "outputs": [
    {
     "data": {
      "text/html": [
       "<div>\n",
       "<style scoped>\n",
       "    .dataframe tbody tr th:only-of-type {\n",
       "        vertical-align: middle;\n",
       "    }\n",
       "\n",
       "    .dataframe tbody tr th {\n",
       "        vertical-align: top;\n",
       "    }\n",
       "\n",
       "    .dataframe thead th {\n",
       "        text-align: right;\n",
       "    }\n",
       "</style>\n",
       "<table border=\"1\" class=\"dataframe\">\n",
       "  <thead>\n",
       "    <tr style=\"text-align: right;\">\n",
       "      <th></th>\n",
       "      <th>title</th>\n",
       "      <th>restaurant_id</th>\n",
       "      <th>cuisines</th>\n",
       "      <th>time</th>\n",
       "      <th>city</th>\n",
       "      <th>locality</th>\n",
       "      <th>rating</th>\n",
       "      <th>votes</th>\n",
       "    </tr>\n",
       "  </thead>\n",
       "  <tbody>\n",
       "    <tr>\n",
       "      <th>0</th>\n",
       "      <td>CASUAL DINING</td>\n",
       "      <td>4085</td>\n",
       "      <td>North Indian, Chinese, Mughlai, Kebab</td>\n",
       "      <td>12noon – 12midnight (Mon-Sun)</td>\n",
       "      <td>Noida</td>\n",
       "      <td>Sector 18</td>\n",
       "      <td>4.3</td>\n",
       "      <td>564 votes</td>\n",
       "    </tr>\n",
       "    <tr>\n",
       "      <th>1</th>\n",
       "      <td>QUICK BITES</td>\n",
       "      <td>12680</td>\n",
       "      <td>South Indian, Fast Food, Pizza, North Indian</td>\n",
       "      <td>7am – 12:30AM (Mon-Sun)</td>\n",
       "      <td>Mumbai</td>\n",
       "      <td>Grant Road</td>\n",
       "      <td>4.2</td>\n",
       "      <td>61 votes</td>\n",
       "    </tr>\n",
       "    <tr>\n",
       "      <th>2</th>\n",
       "      <td>CASUAL DINING</td>\n",
       "      <td>1411</td>\n",
       "      <td>North Indian, Seafood, Biryani, Chinese</td>\n",
       "      <td>11am – 11:30pm (Mon-Sun)</td>\n",
       "      <td>Mumbai</td>\n",
       "      <td>Marine Lines</td>\n",
       "      <td>3.8</td>\n",
       "      <td>350 votes</td>\n",
       "    </tr>\n",
       "    <tr>\n",
       "      <th>3</th>\n",
       "      <td>None</td>\n",
       "      <td>204</td>\n",
       "      <td>Biryani</td>\n",
       "      <td>9am – 10pm (Mon, Wed, Thu, Fri, Sat, Sun), 10:...</td>\n",
       "      <td>Faridabad</td>\n",
       "      <td>NIT</td>\n",
       "      <td>3.8</td>\n",
       "      <td>1445 votes</td>\n",
       "    </tr>\n",
       "    <tr>\n",
       "      <th>4</th>\n",
       "      <td>QUICK BITES</td>\n",
       "      <td>13453</td>\n",
       "      <td>South Indian, Kerala</td>\n",
       "      <td>11am – 10pm (Mon-Sun)</td>\n",
       "      <td>Kochi</td>\n",
       "      <td>Kaloor</td>\n",
       "      <td>3.6</td>\n",
       "      <td>23 votes</td>\n",
       "    </tr>\n",
       "  </tbody>\n",
       "</table>\n",
       "</div>"
      ],
      "text/plain": [
       "           title  restaurant_id                                      cuisines  \\\n",
       "0  CASUAL DINING           4085         North Indian, Chinese, Mughlai, Kebab   \n",
       "1    QUICK BITES          12680  South Indian, Fast Food, Pizza, North Indian   \n",
       "2  CASUAL DINING           1411       North Indian, Seafood, Biryani, Chinese   \n",
       "3           None            204                                       Biryani   \n",
       "4    QUICK BITES          13453                          South Indian, Kerala   \n",
       "\n",
       "                                                time       city      locality  \\\n",
       "0                      12noon – 12midnight (Mon-Sun)      Noida     Sector 18   \n",
       "1                            7am – 12:30AM (Mon-Sun)     Mumbai    Grant Road   \n",
       "2                           11am – 11:30pm (Mon-Sun)     Mumbai  Marine Lines   \n",
       "3  9am – 10pm (Mon, Wed, Thu, Fri, Sat, Sun), 10:...  Faridabad           NIT   \n",
       "4                              11am – 10pm (Mon-Sun)      Kochi        Kaloor   \n",
       "\n",
       "  rating       votes  \n",
       "0    4.3   564 votes  \n",
       "1    4.2    61 votes  \n",
       "2    3.8   350 votes  \n",
       "3    3.8  1445 votes  \n",
       "4    3.6    23 votes  "
      ]
     },
     "execution_count": 8,
     "metadata": {},
     "output_type": "execute_result"
    }
   ],
   "source": [
    "test.head()"
   ]
  },
  {
   "cell_type": "code",
   "execution_count": 9,
   "metadata": {},
   "outputs": [
    {
     "data": {
      "text/plain": [
       "title               0\n",
       "restaurant_id       0\n",
       "cuisines            0\n",
       "time                0\n",
       "city              112\n",
       "locality           98\n",
       "rating              2\n",
       "votes            1204\n",
       "cost                0\n",
       "dtype: int64"
      ]
     },
     "execution_count": 9,
     "metadata": {},
     "output_type": "execute_result"
    }
   ],
   "source": [
    "#checking null values in train dataset\n",
    "train.isnull().sum()"
   ]
  },
  {
   "cell_type": "markdown",
   "metadata": {},
   "source": [
    "having null values in city,locality,rating and votes\n"
   ]
  },
  {
   "cell_type": "code",
   "execution_count": 10,
   "metadata": {},
   "outputs": [
    {
     "name": "stdout",
     "output_type": "stream",
     "text": [
      "<class 'pandas.core.frame.DataFrame'>\n",
      "RangeIndex: 12690 entries, 0 to 12689\n",
      "Data columns (total 9 columns):\n",
      " #   Column         Non-Null Count  Dtype \n",
      "---  ------         --------------  ----- \n",
      " 0   title          12690 non-null  object\n",
      " 1   restaurant_id  12690 non-null  int64 \n",
      " 2   cuisines       12690 non-null  object\n",
      " 3   time           12690 non-null  object\n",
      " 4   city           12578 non-null  object\n",
      " 5   locality       12592 non-null  object\n",
      " 6   rating         12688 non-null  object\n",
      " 7   votes          11486 non-null  object\n",
      " 8   cost           12690 non-null  int64 \n",
      "dtypes: int64(2), object(7)\n",
      "memory usage: 892.4+ KB\n"
     ]
    }
   ],
   "source": [
    "train.info()"
   ]
  },
  {
   "cell_type": "code",
   "execution_count": 11,
   "metadata": {},
   "outputs": [
    {
     "data": {
      "text/plain": [
       "title              0\n",
       "restaurant_id      0\n",
       "cuisines           0\n",
       "time               0\n",
       "city              35\n",
       "locality          30\n",
       "rating             2\n",
       "votes            402\n",
       "dtype: int64"
      ]
     },
     "execution_count": 11,
     "metadata": {},
     "output_type": "execute_result"
    }
   ],
   "source": [
    "#checking null values in test dataset\n",
    "test.isnull().sum()"
   ]
  },
  {
   "cell_type": "markdown",
   "metadata": {},
   "source": [
    "there are missing values in city locality rating and votes"
   ]
  },
  {
   "cell_type": "code",
   "execution_count": 12,
   "metadata": {},
   "outputs": [
    {
     "name": "stdout",
     "output_type": "stream",
     "text": [
      "<class 'pandas.core.frame.DataFrame'>\n",
      "RangeIndex: 4231 entries, 0 to 4230\n",
      "Data columns (total 8 columns):\n",
      " #   Column         Non-Null Count  Dtype \n",
      "---  ------         --------------  ----- \n",
      " 0   title          4231 non-null   object\n",
      " 1   restaurant_id  4231 non-null   int64 \n",
      " 2   cuisines       4231 non-null   object\n",
      " 3   time           4231 non-null   object\n",
      " 4   city           4196 non-null   object\n",
      " 5   locality       4201 non-null   object\n",
      " 6   rating         4229 non-null   object\n",
      " 7   votes          3829 non-null   object\n",
      "dtypes: int64(1), object(7)\n",
      "memory usage: 264.6+ KB\n"
     ]
    }
   ],
   "source": [
    "test.info()"
   ]
  },
  {
   "cell_type": "code",
   "execution_count": 13,
   "metadata": {},
   "outputs": [
    {
     "name": "stdout",
     "output_type": "stream",
     "text": [
      "title:['CASUAL DINING' 'CASUAL DINING,BAR' 'QUICK BITES' 'DESSERT PARLOR' 'CAFÉ'\n",
      " 'MICROBREWERY' 'QUICK BITES,BEVERAGE SHOP' 'CASUAL DINING,IRANI CAFE'\n",
      " 'BAKERY,QUICK BITES' 'None' 'BAR,CASUAL DINING' 'BAR' 'PUB'\n",
      " 'BEVERAGE SHOP' 'FINE DINING' 'CAFÉ,QUICK BITES'\n",
      " 'BEVERAGE SHOP,DESSERT PARLOR' 'SWEET SHOP,QUICK BITES'\n",
      " 'DESSERT PARLOR,SWEET SHOP' 'BAKERY' 'BAKERY,DESSERT PARLOR' 'BAR,LOUNGE'\n",
      " 'FOOD COURT' 'LOUNGE' 'DESSERT PARLOR,BEVERAGE SHOP'\n",
      " 'LOUNGE,CASUAL DINING' 'FOOD TRUCK' 'QUICK BITES,FOOD COURT' 'SWEET SHOP'\n",
      " 'BEVERAGE SHOP,FOOD COURT' 'PUB,CASUAL DINING' 'MESS'\n",
      " 'MICROBREWERY,CASUAL DINING' 'CASUAL DINING,SWEET SHOP' 'KIOSK'\n",
      " 'QUICK BITES,KIOSK' 'CLUB' 'FINE DINING,BAR' 'DESSERT PARLOR,QUICK BITES'\n",
      " 'FOOD COURT,QUICK BITES' 'LOUNGE,CAFÉ' 'BAKERY,CONFECTIONERY'\n",
      " 'CASUAL DINING,CAFÉ' 'DHABA' 'CAFÉ,DESSERT PARLOR'\n",
      " 'QUICK BITES,DESSERT PARLOR' 'PUB,MICROBREWERY' 'LOUNGE,BAR'\n",
      " 'DESSERT PARLOR,CAFÉ' 'CAFÉ,BAR' 'SWEET SHOP,CONFECTIONERY'\n",
      " 'CASUAL DINING,PUB' 'MICROBREWERY,BAR' 'DESSERT PARLOR,BAKERY'\n",
      " 'QUICK BITES,SWEET SHOP' 'BEVERAGE SHOP,QUICK BITES'\n",
      " 'CASUAL DINING,LOUNGE' 'CASUAL DINING,CLUB' 'QUICK BITES,CAFÉ' 'BAR,CAFÉ'\n",
      " 'CAFÉ,CASUAL DINING' 'QUICK BITES,CASUAL DINING'\n",
      " 'CASUAL DINING,MICROBREWERY' 'CASUAL DINING,BAKERY' 'CAFÉ,BAKERY'\n",
      " 'MEAT SHOP' 'QUICK BITES,BAKERY' 'BAR,FINE DINING'\n",
      " 'SWEET SHOP,CASUAL DINING' 'MEAT SHOP,QUICK BITES' 'PUB,LOUNGE'\n",
      " 'BAKERY,CAFÉ' 'COCKTAIL BAR' 'FINE DINING,LOUNGE' 'CONFECTIONERY'\n",
      " 'QUICK BITES,BAR' 'BAKERY,FOOD COURT' 'PUB,BAR'\n",
      " 'DESSERT PARLOR,FOOD COURT' 'QUICK BITES,FOOD TRUCK'\n",
      " 'BAKERY,BEVERAGE SHOP' 'CLUB,BAR' 'BAKERY,SWEET SHOP' 'SWEET SHOP,BAKERY'\n",
      " 'CASUAL DINING,FOOD COURT' 'PAAN SHOP' 'BEVERAGE SHOP,CAFÉ'\n",
      " 'FOOD COURT,DESSERT PARLOR' 'CLUB,MICROBREWERY' 'CAFÉ,BEVERAGE SHOP'\n",
      " 'DESSERT PARLOR,PAAN SHOP' 'MICROBREWERY,LOUNGE' 'LOUNGE,CLUB'\n",
      " 'SWEET SHOP,DESSERT PARLOR' 'BAR,PUB' 'CONFECTIONERY,QUICK BITES'\n",
      " 'DESSERT PARLOR,KIOSK' 'LOUNGE,PUB' 'SWEET SHOP,BEVERAGE SHOP'\n",
      " 'FINE DINING,CAFÉ' 'BEVERAGE SHOP,CASUAL DINING' 'KIOSK,QUICK BITES'\n",
      " 'CASUAL DINING,DESSERT PARLOR' 'LOUNGE,FINE DINING' 'PUB,CAFÉ'\n",
      " 'CAFÉ,LOUNGE' 'BAR,CLUB' 'COCKTAIL BAR,CASUAL DINING' 'MICROBREWERY,PUB'\n",
      " 'CAFÉ,FINE DINING' 'KIOSK,FOOD COURT' 'LOUNGE,MICROBREWERY'\n",
      " 'BAR,MICROBREWERY']\n",
      "QUICK BITES                 4218\n",
      "CASUAL DINING               3652\n",
      "None                        1003\n",
      "CAFÉ                         607\n",
      "DESSERT PARLOR               382\n",
      "                            ... \n",
      "CASUAL DINING,FOOD COURT       1\n",
      "BAKERY,BEVERAGE SHOP           1\n",
      "CAFÉ,FINE DINING               1\n",
      "PUB,CAFÉ                       1\n",
      "CLUB,MICROBREWERY              1\n",
      "Name: title, Length: 113, dtype: int64\n",
      "**********************************************************************\n",
      "\n",
      "\n",
      "cuisines:['Malwani, Goan, North Indian' 'Asian, Modern Indian, Japanese'\n",
      " 'North Indian, Chinese, Biryani, Hyderabadi' ...\n",
      " 'North Indian, Burger, Kebab' 'Goan, Continental'\n",
      " 'Finger Food, Continental, Asian, Chinese']\n",
      "South Indian                                         532\n",
      "North Indian                                         526\n",
      "North Indian, Chinese                                501\n",
      "Fast Food                                            286\n",
      "Chinese                                              167\n",
      "                                                    ... \n",
      "Mexican, Chinese, North Indian, American               1\n",
      "BBQ, Italian, Kebab, Biryani                           1\n",
      "Kerala, Mangalorean, Maharashtrian, Goan, Seafood      1\n",
      "Mughlai, Awadhi                                        1\n",
      "Kashmiri                                               1\n",
      "Name: cuisines, Length: 4155, dtype: int64\n",
      "**********************************************************************\n",
      "\n",
      "\n",
      "time:['11am – 4pm, 7:30pm – 11:30pm (Mon-Sun)' '6pm – 11pm (Mon-Sun)'\n",
      " '11am – 3:30pm, 7pm – 11pm (Mon-Sun)' ... '12:1pm – 4am (Mon-Sun)'\n",
      " '12:30pm – 9:45pm (Mon-Sun)'\n",
      " '12noon – 1am (Mon-Fri),11am – 5pm, 7pm – 1am...']\n",
      "11am – 11pm (Mon-Sun)                                 1415\n",
      "12noon – 12midnight (Mon-Sun)                          469\n",
      "12noon – 11pm (Mon-Sun)                                407\n",
      "11am – 12midnight (Mon-Sun)                            310\n",
      "10am – 10pm (Mon-Sun)                                  221\n",
      "                                                      ... \n",
      "11am – 3:30pm, 4:30pm – 11:30pm (Mon-Sun)                1\n",
      "Closed (Mon),8:57am – 12midnight (Tue),8:15am –...       1\n",
      "9am – 11pm (Mon-Sat),8am – 11pm (Sun)                    1\n",
      "11:30am – 3:30pm, 7:30pm – 10:45pm (Mon-Sun)             1\n",
      "12midnight – 1am, 6pm – 12midnight...                    1\n",
      "Name: time, Length: 2689, dtype: int64\n",
      "**********************************************************************\n",
      "\n",
      "\n",
      "city:['Thane' 'Chennai' 'Mumbai' 'Bangalore' 'Gurgaon' 'Hyderabad' 'Kochi'\n",
      " 'Thane West' 'Andheri Lokhandwala' 'New Delhi' 'Andheri West'\n",
      " 'Malad East' '682036' 'Bangalor' 'Navi Mumbai' 'Bandra West' 'Delhi'\n",
      " 'Noida' 'Bangalore-560066' 'Secunderabad' nan 'India' 'Madhuranagar'\n",
      " 'Chennai Teynampet' 'Faridabad' 'Chembur.' 'Maharashtra'\n",
      " 'opp gurudwara Shakurpur' 'Telagana Land Line:040-48507016' 'Ghaziabad'\n",
      " 'Karnataka' 'Kerala' 'Edappally' 'Kadavanthra' 'Ernakulam Circle kochi'\n",
      " 'Bengalore' 'Near Reliance Fresh' 'Kilpauk' 'Bengaluru' 'Kothaguda'\n",
      " 'Goregaon West' 'Banglore' 'Tamil Nadu' 'Kakkanad' 'Kochi Elamkulam'\n",
      " 'Outer Ring Road' 'Mulund East'\n",
      " 'Secunderabad main road near signal NMREC COLLEGE' 'Telangana'\n",
      " 'Ponnuruni Kochi' 'Gachibowli' 'Semmancheri'\n",
      " '5th Main Teachers Colony Koramangala Block 1 Bangalore 560034'\n",
      " 'Mumbai Mahim' 'Powai (Next to Powai Plaza)' 'Dombivali East'\n",
      " 'Kochi Vyttila' 'Kandivali' 'Kochi Palarivattom' 'Dewan Rama Road'\n",
      " 'Gurugram' 'Sector 51 Noida' 'Kaloor' 'Besant Nagar'\n",
      " 'Arumbakkam chennai-600106.' 'Adjacent To Commercial Street' 'Delhi NCR'\n",
      " 'Dwarka' '682035.' 'Kalyan West' 'Avadi' 'Kondapur' 'Mehdipatnam'\n",
      " 'Gandipet' 'Velachery' 'Pallavaram' 'Vijaya Nagar' 'BTM Layout'\n",
      " 'Chennai 600034.'\n",
      " 'Metro Pillar No 21. Mettuguda main road near railway degree college.'\n",
      " 'Chennai - 600040' 'JP Nagar Bangalore' 'Madhapur' 'Ernakulam' 'Sarjapur'\n",
      " 'Whitefield Bangalore' 'Kochi Chullickal' 'Kochi-683101'\n",
      " 'Bangalore - 560076' 'Rohini' 'Hyderabad Behind Vacs Pastries'\n",
      " 'Hyderabad neerus emporium.' 'Navi Mumbai.' 'Karol Bagh' 'Perungudi'\n",
      " 'Thykoodam' 'Greater Noida' 'Bangalore.' 'Khairatabad' 'chullickal'\n",
      " 'Grant Road West' 'Hitech City' 'West Maredpally' 'Mumbai - 400007'\n",
      " 'Chennai Padur' 'Chander Nagar New Delhi' 'Nedumbassery' 'MG Road'\n",
      " 'Naya Nagar Mira Road' 'Pitampura' 'Lower Parel' 'HBR Layout'\n",
      " 'Telangana 500003' 'Rajiv gandhi Nagar' 'New Delhi.' 'Medavakkam'\n",
      " 'Sathya Nagar' 'p.o Kochi' 'Behind Ramalayam Temple' 'Palarivattom'\n",
      " 'Brigade Road' 'Mumbai.' 'Mumbai Andheri East' 'Virar West' 'B-1 Stage'\n",
      " 'Chennai Kovalam' 'Hyderabad.' 'Aluva' 'Telangana 500034'\n",
      " 'IOB Bank Kamala Nagar' 'HSR Layout' 'Marine Drive' 'DLF Galleria'\n",
      " 'Nallathambi Main Road' 'Chennai opp: Vasanth & co' 'Citypark'\n",
      " 'Karnataka 560103' 'Bhayandar' 'Aluva Circle' 'Thammenahalli Village'\n",
      " 'SG Palya' 'Attapur.' 'Near Shangrilla Bus Stop' 'Khar (west)' 'Road 3'\n",
      " 'Kukatpally' 'Faridabd' 'Telangana 500032' 'Dilsukhnagar'\n",
      " 'Mogappair. Chennai' 'Near Munrshwara Temple' 'Off Brigade Road'\n",
      " 'khar west' 'Potheri' 'Chennai Perungudi' 'Chennai Thuraipakkam'\n",
      " 'OMR Karapakkam' 'Hyderabad-500032' 'Mumbai Dombivali East'\n",
      " 'Chennai Thousand Lights' 'Mahim' 'Lingampally' 'Powai'\n",
      " 'New Delhi-110024' 'Chennai- 600107' 'Kerala 683104' 'Vasai West.'\n",
      " 'Thane (W)' 'Near Santosh Banjara Hyderabad'\n",
      " 'Banaswadi (Next to Indian Bank) Bangalore' 'BTM Bangalore'\n",
      " 'Greater Kailash 2 New Delhi' 'Secunderabad ECIL'\n",
      " 'Bangalore Koramangala 7th Block' 'bangalore : 560085' 'navi mumbai'\n",
      " 'Gachibowli Hyderabad'\n",
      " 'CPR layout harlur main road opposite to ozone ever green apartment Bangalore -'\n",
      " 'ECR NEELANKARAI Chennai 600115' 'ward X11' 'kochi' 'Perumbavoor'\n",
      " 'Mira raod east' 'Kerala 682013' 'Chennai.' 'Pokhran Road 2'\n",
      " 'Uttar Pradesh' 'Karnataka 560102' 'Mumbai - 400013' 'Naharpar'\n",
      " 'Hosur Road' 'Near Bharat Petroleum.'\n",
      " 'Chennai (Bang Opposite Indian Bank)' 'Sriram nagar' 'West Mumbai'\n",
      " 'Vyttila' 'Banjara Hills' 'MALAPALLIPURAM P .O THRISSUR'\n",
      " 'Andheri west Mumbai' 'Karnataka 560043' 'Panampilly Nagar' 'hyderabad'\n",
      " 'Borivali East.' 'ECIL' 'Jubilee Hills'\n",
      " 'Amrit kaur market opposite new delhi railway station paharganj'\n",
      " 'Chennai Opposite 5C Bus stand' 'Telengana' 'Kochi Ravipuram' 'Rajanpada'\n",
      " 'Mahabalipuram' 'Secunderabad. WE HAVE NO BRANCHES.' 'Telangana 500081'\n",
      " 'Gurgoan' 'Elamakkara' 'Sector 1' 'Bandra W' 'Kolathur'\n",
      " 'Chennai Mahabalipuram' '3rd Street' 'Mumbai Chakala' 'Borivali West'\n",
      " 'Rodeo Drive Sector 49' 'Pallimukku' 'Delhi 110085' 'Sector 51'\n",
      " 'Champapet' 'Andavar Nagar' 'Bangalore - 560103' 'Kerala 690525'\n",
      " 'opp mukteshwar ashram powai' 'Nungambakkam' 'BK Guda'\n",
      " 'Jogeshwari (w) Mumbai' 'Kukatapally' 'Near Sector 110 Noida' 'Navallur'\n",
      " 'Beside Excellency Gardens' 'Mumbai - 80' 'Begumpet'\n",
      " 'Maharaja Hotel Beside Gardania Bar' 'Ashok Vihar Phase 1' 'Trivandrum'\n",
      " 'Kochi-18' 'Narayanguda' 'Thevera' 'Chennai-40' 'Palm Beach Road'\n",
      " 'East Coast Road (ECR)' 'Ramapuram' 'Chennai Chrompet' 'Nandanam' 'Saket'\n",
      " 'MG Road Ernakulam' 'Andheri Lokhandwala.' 'Indiranagar' 'Thiruvanmiyur'\n",
      " 'Ambattur' 'Banglaore' 'Chennai - 34 Landmark - Near Loyola College'\n",
      " 'Anna Nagar West' 'Old Railway Road' 'East Mumbai'\n",
      " 'Kanakapura Road Banglore' 'Kochi Kakkanad' 'Kalyan'\n",
      " 'Near Ramlila Ground' 'Serilingampally' 'Himayath Nagar' 'Nallala Street'\n",
      " 'Anna Salai' 'Old Delhi' 'Wagle Estate' '1st Stage' 'Kochi-16'\n",
      " 'Kochi International Airport VIP Road' 'First Street' 'Chenn ai'\n",
      " '6 & 7 - 4/64 Subhash Nagar' '1st Tavarekere' 'Perambur'\n",
      " 'Vaishali Ghaziabad' 'Thanisandra' 'Block F' 'Sector 7 Dwarka'\n",
      " 'Opposite Barathi Gas Company' 'Vadapalani' 'Kondapur.' 'Badlapur West.'\n",
      " 'Kalamassery' 'Palavakkam' 'TCS Synergy park' 'BTM 1st Stage'\n",
      " 'Mahadevpura' 'NEW BEL ROAD 560054'\n",
      " 'Veliaveetil house Vivekananda Nagar Elamakkara' 'Sholinganallur'\n",
      " 'Maharashtra 400102' 'Lower Parel West' 'Tripunithura' 'Mogappair'\n",
      " 'Telangana 500070' 'JP Nagar' 'Navi-Mumbai' 'Ashok Nagar' 'Marathahalli'\n",
      " 'Haridwar Apartments' 'Kerala 682001 India' 'Karnataka 560037'\n",
      " 'Kerala 683585' 'Chennai. (Near Hotel Matshya)' 'Indirapuram'\n",
      " 'Begumpet Hyderabad' 'Manikonda'\n",
      " 'Bangalore land mark above mahaveer hard ware' 'Kerala 682304'\n",
      " 'Rajarajeshwari Nagar bangalore' 'GST Road' 'Fort Kochi'\n",
      " 'Lahari Apartments' 'Ramanthapur' 'Mulund west' 'Gurgaon Haryana India'\n",
      " 'New Delhi..Near by SBI bank' 'Kochi Aluva 102' 'Phase 1 Bangalore'\n",
      " 'Hyderabad Manikonda'\n",
      " 'Mumbai This is a Delivery & Take-away Restaurant only.' '10th avenue'\n",
      " 'Uppal' 'New Delhi 110075' 'Nizampet' 'Ulsoo' 'Bangalore 560076'\n",
      " 'PVR plaza cinema building Connaught Place' 'Gurgaon Haryana' 'Chromepet'\n",
      " 'Kerala 682024' 'Janakpuri' 'Secunderabad.' 'chennai'\n",
      " 'B.B.M.P East (Karnataka) - 560049' 'Tambaram' 'Malleshwaram Bangalore'\n",
      " 'Vadapalani.' 'Dist. Center New Delhi' 'Bangalore Road' 'aluva circle'\n",
      " 'Kochi.' 'Thane Mumbai' 'Kadubesanahalli Bangalore' 'Vasai west'\n",
      " 'Mig Housing Society' 'Haryana' 'Borivali West.' 'Golf Course Road'\n",
      " 'Khar Mumbai' 'Near Jyothinivas College' 'Anna Nagar East' 'Masab Tank']\n",
      "Chennai                                                           2174\n",
      "Bangalore                                                         2149\n",
      "Hyderabad                                                         1819\n",
      "Mumbai                                                            1722\n",
      "New Delhi                                                         1321\n",
      "                                                                  ... \n",
      "Chennai-40                                                           1\n",
      "Amrit kaur market opposite new delhi railway station paharganj       1\n",
      "Elamakkara                                                           1\n",
      "Indirapuram                                                          1\n",
      "Sector 7 Dwarka                                                      1\n",
      "Name: city, Length: 359, dtype: int64\n",
      "**********************************************************************\n",
      "\n",
      "\n",
      "locality:['Dombivali East' 'Ramapuram' 'Saligramam' ... 'Market Road'\n",
      " 'Near Perambur' 'Near Malviya Nagar']\n",
      "Gachibowli                                    166\n",
      "Indiranagar                                   138\n",
      "Edappally                                     122\n",
      "Kakkanad                                      121\n",
      "HSR                                           120\n",
      "                                             ... \n",
      "6th Avenue                                      1\n",
      "Near Focus Hospital Champapet Saroor Nagar      1\n",
      "madhapur                                        1\n",
      "5th Avenue                                      1\n",
      "Manjapetty Aluva Perumbavoor Road               1\n",
      "Name: locality, Length: 1416, dtype: int64\n",
      "**********************************************************************\n",
      "\n",
      "\n",
      "rating:['3.6' '4.2' '3.8' '4.1' '4.0' '4.3' '3.9' '3.3' '3.4' '-' '4.5' '3.5'\n",
      " '4.4' '2.7' '3.7' '4.7' 'NEW' '3.1' '2.5' '4.6' '2.8' nan '3.0' '3.2'\n",
      " '2.6' '2.9' '4.9' '4.8' '2.4' '2.3' '2.0' '2.1' '2.2']\n",
      "3.9    1238\n",
      "3.8    1190\n",
      "4.0    1099\n",
      "3.7    1086\n",
      "3.6     951\n",
      "4.1     936\n",
      "3.5     771\n",
      "4.2     723\n",
      "NEW     707\n",
      "3.4     575\n",
      "4.3     556\n",
      "-       495\n",
      "3.3     365\n",
      "4.4     362\n",
      "3.2     266\n",
      "4.5     199\n",
      "2.9     186\n",
      "3.1     186\n",
      "3.0     170\n",
      "2.8     146\n",
      "4.6     141\n",
      "2.7      89\n",
      "4.7      69\n",
      "2.6      61\n",
      "2.5      35\n",
      "4.8      32\n",
      "4.9      22\n",
      "2.4      15\n",
      "2.3      10\n",
      "2.1       3\n",
      "2.2       2\n",
      "2.0       2\n",
      "Name: rating, dtype: int64\n",
      "**********************************************************************\n",
      "\n",
      "\n",
      "votes:['49 votes' '30 votes' '221 votes' ... '2723 votes' '1426 votes'\n",
      " '1214 votes']\n",
      "44 votes      71\n",
      "29 votes      66\n",
      "28 votes      66\n",
      "38 votes      65\n",
      "35 votes      64\n",
      "              ..\n",
      "1609 votes     1\n",
      "1391 votes     1\n",
      "2365 votes     1\n",
      "3627 votes     1\n",
      "3193 votes     1\n",
      "Name: votes, Length: 1847, dtype: int64\n",
      "**********************************************************************\n",
      "\n",
      "\n"
     ]
    }
   ],
   "source": [
    "# printing the object data type columns and their unique values of train\n",
    "for column in train.columns:\n",
    "    if train[column].dtypes==object:\n",
    "        print(str(column)+ ':' +str(train[column].unique()))\n",
    "        print(train[column].value_counts())\n",
    "        print('**********************************************************************')\n",
    "        print('\\n')"
   ]
  },
  {
   "cell_type": "code",
   "execution_count": 14,
   "metadata": {},
   "outputs": [
    {
     "name": "stdout",
     "output_type": "stream",
     "text": [
      "title:['CASUAL DINING' 'QUICK BITES' 'None' 'FOOD TRUCK,DESSERT PARLOR'\n",
      " 'DESSERT PARLOR,QUICK BITES' 'CASUAL DINING,BAR' 'LOUNGE' 'BEVERAGE SHOP'\n",
      " 'CASUAL DINING,PUB' 'DESSERT PARLOR' 'PUB' 'CAFÉ' 'BAKERY' 'LOUNGE,BAR'\n",
      " 'BAKERY,QUICK BITES' 'SWEET SHOP' 'SWEET SHOP,QUICK BITES'\n",
      " 'BEVERAGE SHOP,QUICK BITES' 'CAFÉ,QUICK BITES' 'DHABA'\n",
      " 'QUICK BITES,DESSERT PARLOR' 'FINE DINING' 'IRANI CAFE,BAKERY'\n",
      " 'PUB,CASUAL DINING' 'BAKERY,CASUAL DINING' 'BAR' 'FOOD COURT'\n",
      " 'QUICK BITES,SWEET SHOP' 'CAFÉ,BAR' 'BAR,PUB' 'BAKERY,DESSERT PARLOR'\n",
      " 'KIOSK' 'CAFÉ,BAKERY' 'CASUAL DINING,BAKERY' 'BAKERY,CAFÉ'\n",
      " 'CASUAL DINING,CAFÉ' 'QUICK BITES,CAFÉ' 'MESS' 'BAR,CASUAL DINING'\n",
      " 'BEVERAGE SHOP,CAFÉ' 'BEVERAGE SHOP,DESSERT PARLOR' 'PUB,FINE DINING'\n",
      " 'CASUAL DINING,FOOD COURT' 'CAFÉ,CASUAL DINING' 'LOUNGE,CASUAL DINING'\n",
      " 'DESSERT PARLOR,CAFÉ' 'FINE DINING,BAR' 'CASUAL DINING,SWEET SHOP'\n",
      " 'LOUNGE,FINE DINING' 'MICROBREWERY,PUB' 'FOOD TRUCK'\n",
      " 'CASUAL DINING,MICROBREWERY' 'CLUB' 'CAFÉ,FOOD COURT'\n",
      " 'CAFÉ,DESSERT PARLOR' 'MICROBREWERY,CASUAL DINING'\n",
      " 'DESSERT PARLOR,BAKERY' 'QUICK BITES,BAKERY' 'QUICK BITES,BEVERAGE SHOP'\n",
      " 'FINE DINING,MICROBREWERY' 'CASUAL DINING,LOUNGE' 'CLUB,FINE DINING'\n",
      " 'PUB,MICROBREWERY' 'SWEET SHOP,DESSERT PARLOR'\n",
      " 'COCKTAIL BAR,CASUAL DINING' 'DESSERT PARLOR,BEVERAGE SHOP'\n",
      " 'FOOD COURT,QUICK BITES' 'LOUNGE,CLUB' 'MICROBREWERY'\n",
      " 'DESSERT PARLOR,FOOD COURT' 'PUB,BAR' 'BAKERY,BEVERAGE SHOP'\n",
      " 'QUICK BITES,MEAT SHOP' 'CAFÉ,LOUNGE' 'FINE DINING,LOUNGE'\n",
      " 'CONFECTIONERY' 'PAAN SHOP' 'CLUB,CASUAL DINING' 'FINE DINING,CAFÉ'\n",
      " 'PUB,LOUNGE' 'PUB,CAFÉ' 'BAR,LOUNGE' 'QUICK BITES,CASUAL DINING'\n",
      " 'CASUAL DINING,IRANI CAFE' 'CLUB,BAR' 'BHOJANALYA']\n",
      "QUICK BITES              1416\n",
      "CASUAL DINING            1258\n",
      "None                      284\n",
      "CAFÉ                      223\n",
      "DESSERT PARLOR            126\n",
      "                         ... \n",
      "BAR,PUB                     1\n",
      "PUB,FINE DINING             1\n",
      "BHOJANALYA                  1\n",
      "QUICK BITES,MEAT SHOP       1\n",
      "PUB,CAFÉ                    1\n",
      "Name: title, Length: 86, dtype: int64\n",
      "**********************************************************************\n",
      "\n",
      "\n",
      "cuisines:['North Indian, Chinese, Mughlai, Kebab'\n",
      " 'South Indian, Fast Food, Pizza, North Indian'\n",
      " 'North Indian, Seafood, Biryani, Chinese' ...\n",
      " 'North Indian, Chinese, Kebab, Juices' 'Sindhi, Street Food'\n",
      " 'Rolls, Beverages']\n",
      "North Indian, Chinese                           213\n",
      "North Indian                                    190\n",
      "South Indian                                    174\n",
      "Fast Food                                        78\n",
      "Chinese                                          59\n",
      "                                               ... \n",
      "Burger, Desserts, Sandwich, Beverages, Pizza      1\n",
      "Chinese, Continental, Seafood                     1\n",
      "Street Food, Chinese, South Indian                1\n",
      "North Eastern, Momos                              1\n",
      "Asian, Continental, North Indian, Italian         1\n",
      "Name: cuisines, Length: 1727, dtype: int64\n",
      "**********************************************************************\n",
      "\n",
      "\n",
      "time:['12noon – 12midnight (Mon-Sun)' '7am – 12:30AM (Mon-Sun)'\n",
      " '11am – 11:30pm (Mon-Sun)' ...\n",
      " '12noon – 4pm, 7pm – 10:30pm (Mon-Sat),12noon –...'\n",
      " '6am – 12:30AM (Mon, Tue, Wed, Thu, Sat, Sun), 6am...'\n",
      " '11am – 11:30pm (Mon, Tue, Wed, Thu, Sat, Sun), 3pm...']\n",
      "11am – 11pm (Mon-Sun)                           447\n",
      "12noon – 12midnight (Mon-Sun)                   146\n",
      "12noon – 11pm (Mon-Sun)                         134\n",
      "11am – 12midnight (Mon-Sun)                     109\n",
      "10am – 11pm (Mon-Sun)                            74\n",
      "                                               ... \n",
      "10:30am – 4am (Mon-Sun)                           1\n",
      "1:30pm – 3:30am (Mon-Sun)                         1\n",
      "8am – 11:5pm (Mon),8am – 11:10pm (Tue-Sun)        1\n",
      "10am – 7pm (Mon-Sun)                              1\n",
      "12midnight – 3am, 7pm – 12midnight (Mon-Sun)      1\n",
      "Name: time, Length: 1183, dtype: int64\n",
      "**********************************************************************\n",
      "\n",
      "\n",
      "city:['Noida' 'Mumbai' 'Faridabad' 'Kochi' 'Hyderabad' 'Navi Mumbai' 'Chennai'\n",
      " 'New Delhi' 'Bangalore' 'Vasai Mumbai' 'Gurgaon' 'Palarivattom' 'Delhi'\n",
      " 'Ernakulam' 'Thane West' 'Ghaziabad' 'Chennai.' 'Thane' 'Telangana'\n",
      " 'Bandra West' 'Potheri' 'Panathur Main Road' 'Secunderabad' nan\n",
      " 'JP Nagar' 'Near Andheri West Station'\n",
      " 'opposite to western side of ITPL Service gate' 'Kalkaji' 'Bengaluru'\n",
      " 'APR Chambers' 'Tamil Nadu 600102' 'Andheri West' 'India'\n",
      " 'Serilingampally' 'Maharashtra.' 'Gandhinagar Rd'\n",
      " 'Near Andheri East Station' 'HSR Layout' 'Greater Noida' 'Uttar Pradesh'\n",
      " 'Dwarka' 'Velachery' 'Anna Nagar West' 'Indiranagar' 'Whitefield'\n",
      " 'Kochi Ravipuram' 'Kerala 682036' 'Madhapur' 'Hyderabad.'\n",
      " 'Mira Road Thane Mumbai' 'India Gate New Delhi' 'Bangalore - 560095'\n",
      " '1st Stage' 'Sholinganallur. Chennai' 'Chennai (Above Bombay Brasserie)'\n",
      " 'Powai' 'Marathahalli' 'Kaloor' 'Chennai 37' 'kochi' 'Gurugram' '682024'\n",
      " 'Tripunithura' 'Kakkanad' 'Girgaum' 'Greater Kailash 1 (GK 1) New Delhi'\n",
      " 'Delhi NCR' 'Kurla (W)' 'Secunderabad.' 'Mumbai 400015'\n",
      " 'Thane West Thane West' 'Banjara Hills' 'Kochi Panampilly Nagar' 'Marad'\n",
      " 'Maharashtra 400092' 'Near Sector 34' 'Bengalore' 'Mehdipatnam Hyderabad'\n",
      " 'Nallagandla' 'Vandalur' 'Mulund West' 'Chennai 40' 'Maharashtra'\n",
      " 'Banglore' 'Secunderbad' 'MM Nagar' 'Mumbai 400070' 'Dilsukhnagar'\n",
      " 'Chittethukkara' 'BTM' 'Dombivli' 'Sahakara Nagar'\n",
      " 'Mohammad Ali Road Mumbai' 'Chennai 600040' 'Tavarekere Main Road'\n",
      " 'Community Centre' 'Kerala 682022' 'Delh.' 'Sector-6 Noida 201301'\n",
      " 'Kaaraikudi Complex' 'Thiruvanmiyur (Opp Eurokids LB Road)'\n",
      " 'Virar Mumbai' 'Bangalore.' 'Tolichowki'\n",
      " 'Kochi International Airport VIP Road' 'Hyderaba' 'Kerala 682305'\n",
      " 'Navi Mumbai.' 'Alwarpet' 'Kerala 682015' 'Nungambakkam' 'Gachibowli'\n",
      " 'Mumbai Veera Desai Area' 'Kerala 682018' 'Kerala 682028' 'Suraram'\n",
      " 'Chennai Velachery' 'Forum Sujana Mall Opposite to Malaysian township'\n",
      " 'Old Hafeezpet' 'Yousufguda' 'Chennai-600008' 'Mumbai Ulhasnagar'\n",
      " 'Jogeshwari West Mumbai' 'Chepauk' 'Chowpatty' 'Church Street'\n",
      " 'Balavinayagar Nagar Chennai' 'T-Nagar Chennai' 'RA Puram'\n",
      " 'Hyderabad.Star hypermarket opposite side Service road'\n",
      " 'Chennai Injambakkam' 'Mumbai Mumbra' 'Chennai Teynampet' 'Habsiguda'\n",
      " 'Kurla Mumbai' 'Telangana 500027' 'Chenna' 'Kerala 682021'\n",
      " 'Kandivali West' 'chennai-119' 'Kerala' 'Noida Extention'\n",
      " 'Shihab Thangal Road' 'GST Road' 'New Delhi 110011' 'Miumbai'\n",
      " 'Borivali (W) Mumbai: 400 092.' 'Vanasthalipuram' 'KK Road'\n",
      " 'Chennai - 600018' 'Karnataka' 'Opposite Ellora Building']\n",
      "Bangalore                                           686\n",
      "Chennai                                             681\n",
      "Hyderabad                                           639\n",
      "Mumbai                                              589\n",
      "Kochi                                               472\n",
      "                                                   ... \n",
      "Mohammad Ali Road Mumbai                              1\n",
      "Kerala 682018                                         1\n",
      "Maharashtra                                           1\n",
      "Forum Sujana Mall Opposite to Malaysian township      1\n",
      "Church Street                                         1\n",
      "Name: city, Length: 151, dtype: int64\n",
      "**********************************************************************\n",
      "\n",
      "\n",
      "locality:['Sector 18' 'Grant Road' 'Marine Lines' 'NIT' 'Kaloor' 'Banjara Hills'\n",
      " 'Kharghar' 'Navalur' 'IP Extension' 'Palarivattom' 'Electronic City'\n",
      " 'West Mambalam' 'Worli' 'Ulsoor' 'Abids' 'MG Road' 'Dahisar West'\n",
      " 'Vijay Nagar' 'Fort' 'Anna Salai' 'East' 'DLF Phase 4' 'Banaswadi'\n",
      " 'Jubilee Hills' 'Sector 15' 'BTM' 'Elamkulam' 'Bandra West' 'Aluva'\n",
      " 'Indiranagar' 'Marol' 'Whitefield' 'Fort Kochi' 'Film Nagar' 'Edappally'\n",
      " 'Bandra Kurla Complex' 'Marathahalli' 'Dombivali East'\n",
      " 'N.W.A Punjabi Bagh' 'Kodambakkam' 'Anna Nagar West' 'Sarjapur Road'\n",
      " 'Tripunithura' 'Matunga East' 'Kathrikadavu' 'Mylapore' 'Kakkanad'\n",
      " 'Malakpet' 'Kandivali West' 'Sector 31' 'Kalyan East' 'Necklace Road'\n",
      " 'Sector 49' 'Miyapur' 'Ashok Nagar' 'Aerocity' 'Purasavakkam'\n",
      " 'Srinagar Colony' 'Madhapur' 'Kalyan' 'Subhash Nagar' 'Pallimukku'\n",
      " 'Vikas Marg' '35/581&582 Janatha Junction' 'Krishna Nagar' 'Chanakyapuri'\n",
      " 'Thevera' 'Vasant Vihar' 'Indirapuram' 'Sushant Lok' 'Ghatkopar East'\n",
      " 'Anna nagar' 'Bannerghatta Road' 'Parel' 'Colaba'\n",
      " 'Opposite New Panjabi Hotel Old Airport Road' 'Jama Masjid' 'Egmore'\n",
      " 'Old Railway Road' 'Kurla' 'Andheri West' 'Thane West' 'Secunderabad'\n",
      " 'Gachibowli' 'Kilpauk' 'Kolathur' 'Koramangala 5th Block' 'Washermenpet'\n",
      " 'Maduravoyal' 'Thousand Lights' 'Ambattur' 'Guduvancherry' 'Thopumpady'\n",
      " 'Azad Nagar' 'Thiruvanmiyur' 'Palam Vihar' 'Shalimar Bagh'\n",
      " 'Chandrayanagutta' 'Chembur' 'Vasant Kunj' 'Velachery' 'Marine Drive'\n",
      " 'Breach Candy' 'Sector 22' 'Kalamassery' 'Linking Road'\n",
      " 'Koramangala 4th Block' 'Kandivali East' 'Mulund West' 'Rajouri Garden'\n",
      " 'Suraram' 'Chengalpattu' 'Near Rammurthy Nagar' 'Goregaon East'\n",
      " 'Anna Nagar East' 'Pitampura' 'Anna Nagar' 'Porur' 'Mehdipatnam'\n",
      " 'Ernakulam' 'Basavanagudi' 'Koramangala 7th Block' 'Goregaon West'\n",
      " 'Powai' 'Mohammad Ali Road' 'Vile Parle East' 'Jeevan Bhima Nagar'\n",
      " 'Anna Street' 'kadubeesanahalli' 'Elphinstone' 'Mattancherry' 'Attapur'\n",
      " 'Karkhana' nan 'Injambakkam' 'Chennai' 'Telangana S R Nagar'\n",
      " 'New Perungalathur' 'Nungambakkam' 'RA Puram' 'Bhayandar' 'Lodhi Colony'\n",
      " 'Old Airport Road' 'Royapettah' 'Kirti Nagar' 'Vashi' 'Sion' 'K.K. Nagar'\n",
      " 'Dadar East' 'Kompally' 'Phase 5' 'Vasai' 'Akkarai' 'Race Course Road'\n",
      " 'Opposite National Shopping Centre' 'Vyttila' 'Residency Road'\n",
      " 'Hyderabad' 'Munirka' 'Mayur Vihar Phase 2' 'Mayur Vihar Phase 1'\n",
      " 'Ghansoli' 'Kukatpally' 'Uttam Nagar' 'Sector 55' 'Tolichowki' 'Alwarpet'\n",
      " 'Kelambakkam' 'Mira Road' 'Karkardooma' 'Malleshwaram' 'Near Sector 110'\n",
      " 'Malad West' 'Chandivali' 'Padur' 'Kothaguda' 'Greater Kailash 1 (GK1)'\n",
      " 'Karapakkam' 'Kalyan Nagar' 'Mahim' 'Near Deshbandhu College'\n",
      " 'Telangana 500001' 'Jayanagar' 'Greater Kailash (GK) 1' 'Near Sohna Road'\n",
      " 'Hitech City' 'Trimulgherry' 'Juhu' 'Bommanahalli' 'Guindy' 'Surya Nagar'\n",
      " 'Vanasthalipuram' 'Kondapur' 'Koramangala' 'Plot 22 Sector 135'\n",
      " 'Chanda Nagar' 'Ghatkopar West' 'Saidapet' 'T. Nagar' 'Indira Nagar'\n",
      " 'Triplicane' 'Satyaniketan' 'Greater Noida' 'Brookefield'\n",
      " 'House 3-5-909/B/1' 'Parrys' 'Chowpatty' 'West Mogappair' 'Shamirpet'\n",
      " 'Sainikpuri' 'Vadapalani' 'Delhi University-GTB Nagar' 'Perumbavoor'\n",
      " 'Mahakali' 'Jeedimetla' 'Medavakkam' 'Malviya Nagar' 'Golf Course Road'\n",
      " 'Navallur' 'Daryaganj' 'L B Nagar' 'Hennur' 'DLF Cyber City' 'Moti Nagar'\n",
      " 'Angamali' '7 Bungalows' 'Sadashiv Nagar' 'Vypin' 'Bellandur'\n",
      " 'Lower Parel' 'Willingdon Island' 'Kacheripady' 'Lajpat Nagar 2'\n",
      " 'Koramangala 6th Block' 'Lingampally' 'Kamla Nagar' 'Sector 62'\n",
      " 'Kumaraswamy Layout' 'Dahisar East' 'Saket' 'Anand Vihar' 'Sector 29'\n",
      " 'Amberpet' 'Telangana 500081' 'Habsiguda' 'Sector 72' 'CBD-Belapur'\n",
      " 'Kalbadevi' 'Gachibowli-Kondapur Road' 'DLF Phase 3' 'Yeshwantpur'\n",
      " 'Sainik Farms' 'Thane' 'New Friends Colony' 'Yelahanka' 'Majiwada'\n",
      " 'Adambakkam' 'S P Road' 'Vasai West' 'Near New BEL Road' 'JP Nagar'\n",
      " 'Himayath Nagar' 'Selaiyur' 'Kaggadasapura' 'Mahakavi vailopilly road'\n",
      " 'Mogappair' 'Potheri' 'HSR Layout' 'Dwarka' 'Adyar' 'Thuraipakkam'\n",
      " 'Kadavanthra' 'Pallavaram' '38/72 B1' 'HSR' 'Ameerpet' 'Near Sector 45'\n",
      " 'Paradise Circle' 'Church Street' 'Sector 132' 'Byculla' 'Sector 50'\n",
      " 'Paschim Vihar' 'Tambaram' 'Panampilly Nagar' 'Borivali West'\n",
      " 'Chittoor Road' 'Chromepet' 'Safdarjung' 'Gopalapuram' 'Domlur'\n",
      " 'Besant Nagar' 'ECIL' 'Sector 14' 'Kopar Khairane' 'Connaught Place'\n",
      " 'Santacruz West' 'St. Thomas Mount' 'Somajiguda' 'Model Town 1'\n",
      " 'Defence Colony' 'Old Nagardas Road' 'Perambur' 'Prabhadevi' 'Panjagutta'\n",
      " 'Padmarao Nagar' 'Seawoods' 'GST Road' 'Frazer Town' 'SDA' 'Sector 1'\n",
      " 'Shamshabad' 'Lajpat Nagar 1' 'Gaur City 1' 'Telangana 500047' 'Sector 7'\n",
      " 'Mahabalipuram' 'Sholinganallur' 'S D Road' 'Banashankari' 'Choolaimedu'\n",
      " 'West Patel Nagar' 'East Patel Nagar' 'Elamakkara' 'South Extension 2'\n",
      " 'Malkajgiri' 'Majestic' '16th cross' 'Airoli' 'Semmancheri' 'Noida'\n",
      " 'Sector 12' 'Mahipalpur' 'Hebbal'\n",
      " 'Near Cochin International Airport Nedumbassery' 'Rajarajeshwari Nagar'\n",
      " 'Royapuram' 'Jose Junction' 'Ravipuram' 'Madipakkam' 'Lakdikapul'\n",
      " 'S R Nagar' 'Kadavanthara' 'Koramangala 1st Block' 'Tarnaka'\n",
      " 'Rajajinagar' 'Borivali East' 'Janakpuri' 'A S Rao Nagar' 'Jangpura'\n",
      " 'Nedumbassery' 'Sector 4' 'Sushant Lok 1' 'Kanchipuram District'\n",
      " 'Near Sector 72' 'Nagarbhavi' 'Manikonda' '7th main HAL 2nd stage'\n",
      " 'Paharganj' 'Dadar West' 'ITPL Main Road' 'Raj Nagar' 'Koyambedu'\n",
      " 'Hauz Khas Village' 'Mumbai Central' 'Khairatabad' 'Andheri Lokhandwala'\n",
      " 'Begumpet' 'Sector 38' 'Palam' 'Perungudi' 'Panch Pakhadi' 'Dilsukhnagar'\n",
      " 'Nagole' 'Veera Desai Area' 'Manpada' 'Chetpet' 'Kochi' 'Neredmet'\n",
      " 'Rohini' 'Nallakunta' 'Naupada' 'Dwaraka Nagar Colony' 'Sector 63'\n",
      " 'Virar' 'Vennala' '4th phase' 'Andheri East' 'Kothapet' 'Majnu ka Tila'\n",
      " 'Nagawara' 'Kalkaji' 'Vasanth Nagar'\n",
      " 'Wallace garden 3rd street Nungambakkam' 'Shahdara' 'Mahalaxmi' 'Kanakia'\n",
      " 'Musheerabad' 'Chullickal' 'Ramapuram' 'Nampally' 'Netaji Subhash Place'\n",
      " 'Pandara Road' 'Chakala' 'Gandipet' 'Narayanguda' 'George Town' 'Uppal'\n",
      " 'Malad East' 'Vile Parle West' 'Utsav Chowk Kharghar' 'Marad' 'Khar'\n",
      " 'Jogeshwari' 'Sarojini Nagar' 'Muttukadu' 'Jalahalli'\n",
      " 'East Coast Road (ECR)' 'Sector 19' 'Girgaum' 'Hauz Khas' 'Tardeo'\n",
      " 'Crossing Republik' 'Marredpally' 'Hafeezpet' 'Neelangarai'\n",
      " 'East Krishna Nagar' 'Near Charminar' 'Falaknuma' 'Karol Bagh'\n",
      " 'Pali Hill' 'Nalasopara' 'Laxmi Nagar' 'Punjabi Bagh' 'Geeta Colony'\n",
      " 'Sector 83' 'Kammanahalli' 'PG Road' 'Egatoor' 'South City 2'\n",
      " 'Lavelle Road' 'Maruthi Nagar Main Road' 'CBD Belapur' 'Nerul'\n",
      " 'Tilak Nagar' 'New Panvel' 'Charminar' 'Hiranandani Gardens' 'Munnekolal'\n",
      " 'Badkal Lake' 'Mayur Vihar' 'Opposite 10th Avenue Gaur City 2'\n",
      " 'HBR Layout' 'Avadi' 'Juhu Road' 'Near PVR Plaza' 'Patparganj' 'Janpath'\n",
      " 'kakkanad' 'Peenya' 'Sarita Vihar' 'Adikmet' 'Moosapet' 'Thippasandra'\n",
      " 'Old Madras Road' 'Churchgate' 'Khel Gaon Marg' 'Richmond Road'\n",
      " 'Seshadripuram' 'Mandi House' 'CV Raman Nagar' 'Gamma 1' 'Near Sector 50'\n",
      " 'Vaishali' 'Vivek Vihar' 'Puthiya Road' 'Sector 10'\n",
      " 'Chandras Complex Near Flyover Bridge Annojiguda' 'Chowpatty Bridge'\n",
      " 'Greater Kailash 1 (GK 1)' 'Charni Road' 'GK 1' 'Saroor Nagar'\n",
      " 'Dadar Shivaji Park' 'R-5' 'Sakinaka' 'Oshiwara' 'Vikaspuri'\n",
      " 'Cunningham Road' 'Opp. Kalpana Talkies' 'DLF Phase 2' 'Nanganallur'\n",
      " 'Rajendra Place' 'Secunderabad Division' 'Sohna Road' 'Sewree (W)'\n",
      " 'Masab Tank' 'Nacharam' 'Santacruz East' 'Taramani' 'Versova'\n",
      " 'Green Valley' 'Govind Puram' 'Near Cross Point Mall'\n",
      " 'T D East Sannidhi Road' 'Maradu Junction' 'Nizampet' 'Mulund East'\n",
      " 'Block A Kalkaji' 'Brigade Road' 'Jaipuria Sunrise Plaza'\n",
      " 'Kanakapura Road' 'Mumbai' 'Sector 32' 'Reclamation'\n",
      " 'Koramangala 3rd Block' 'Valanjambalam' 'New BEL Road' 'Rajaji Nagar'\n",
      " 'DLF Phase 1' 'Castle Mill' 'Kerala' 'C-7 Ramprastha' 'Pillar 76'\n",
      " 'Near Andheri West Station' 'Golf Course Extension Road'\n",
      " 'Manjeera Diamond Entrance Road' 'BTM 2nd Stage' 'Valasaravakkam'\n",
      " 'Mayapuri Phase 2' 'M.G. Road' 'Gaddanaram' 'Lajpat Nagar 4'\n",
      " 'Near Sarjapur Road' 'Preet Vihar' 'Near Panch Rasta' 'SR Nagar'\n",
      " 'Amar Colony' 'St.Francis Xavier Church Road' 'Ashok Vihar Phase 1'\n",
      " 'Kamothe' 'Shenoy Nagar' 'East of Kailash' 'Anna nagar East'\n",
      " 'RDC Raj Nagar' 'N Block Connaught Place' 'Nehru Place' 'Turbe' 'Kovalam'\n",
      " 'Sector 6' 'Ignou Main Road Sainik Farms' 'Mira Road East' 'Kacheguda'\n",
      " 'Hill Road' 'Sector 110' 'Opposite kanti Park Borivali West'\n",
      " 'Near Pallimukku' 'Mysore Road' 'Saligramam' 'Koramangala 8th Block'\n",
      " 'Vikhroli East' 'Bandra East' 'Ambernath' 'Kengeri' 'Koti' 'RT Nagar'\n",
      " 'Sector 37' 'Vandalur' 'Koramangala 2nd Block' 'Greater Kailash 2 (GK2)'\n",
      " 'Prashant Vihar' 'Chittaranjan Park' 'Vazhakkala' 'Near Sector 125'\n",
      " 'Mahesh Nagar Radhika circle A S Rao Nagar' 'Kanakapura Main Road'\n",
      " 'Sunder Nagar' 'Telangana 500082'\n",
      " 'No 1 Sri Vari Nagar Fortune Select Grand Hotel - GST Road SP Koil'\n",
      " 'Vijaya Nagar' 'Mallapur' 'Basheer Bagh' 'Gaur City 2' 'Kurla west'\n",
      " 'lane besides to King’s Burger. Next to nellore mess' 'Janak Puri'\n",
      " 'Alandur' 'Medchal Road' 'Telangana' 'Ernakulam South' 'Sector 30'\n",
      " 'Pallikaranai' 'Chandni Chowk' 'Aminijikarai' 'Seaport - Airport Road'\n",
      " 'Langer Houz' 'Sector 135' 'Yapral' 'Ekkaduthangal' 'Bannergatta Road'\n",
      " '2nd Stage' 'Sector 16' 'Bowenpally' 'Near Sector 132' 'Cuffe Parade'\n",
      " 'Bangalore' 'Pandav Nagar' 'Near Kodihalli Masjid' 'Panchsheel Park'\n",
      " 'Poonamalle' 'Sector 75' 'Dombivli East' 'Jasola'\n",
      " 'Off Kodigehalli Main Road' 'Patka Manzil Bhindi Bazar' 'Edakochi'\n",
      " 'Pragati Maidan' 'Dombivali West' 'Arumbakkam' 'Jail Road' 'Makana Tower'\n",
      " 'Teynampet' 'Model Town 2' 'Near Tripunithura' 'PVR Anupam Complex'\n",
      " 'Vikhroli' 'Indranagar' 'Bhandup' '5th Block Jayanagar' 'Rajinder Nagar'\n",
      " 'Greater Kailash (GK) 3' 'Near Pitampura' 'ITO' 'Kasarvadavli'\n",
      " 'Basaveshwara Nagar' 'Geetanjali Enclave' 'Sahakara Nagar'\n",
      " 'Off Brigade Road' 'Mayapuri Phase 1' 'Moosarambagh' 'Chunabhatti East'\n",
      " 'Thaikkavu Aluva 6' 'Kuzhikattumoola' 'Barakhamba Road'\n",
      " 'Vengalarao S R Nagar' 'T.Nagar' 'Rammurthy Nagar' 'Mukherjee Nagar'\n",
      " 'B-28' 'Lado Sarai' 'Dr. Radhakrishnan Salai' 'Nandanam' 'Andheri'\n",
      " 'New Ashok Nagar Main Matrket Mayur Vihar Phase 1' 'Gole Market'\n",
      " 'Sanpada' 'Alwal' 'Alaknanda' 'Naraina' 'Sector 11'\n",
      " 'Near Andheri East Station' 'Sector 41' '17 Malaviya Avenue'\n",
      " 'Tirupati Nagar' 'Near Center State Mall Sector 18'\n",
      " 'Opposite DLF City Court DLF Phase 2' 'Market Lane Borivali West'\n",
      " 'Sikanderpur' 'Sheikpet' 'Kerala 682034' 'Courtyard by Marriott'\n",
      " 'Sector 19 Ulwe' 'Ulwe' '(ground floor of Sunrise Chambers)' 'Vasundhara'\n",
      " 'Infantry Road' 'Near Andheri Lokhandwala' 'Gujranwala Town'\n",
      " 'Near Sector 64' 'Satya Niketan' 'Ramanthapur' 'Nariman Point'\n",
      " 'T.T.K Road' 'Chennai Opposite the MRF Building' 'Jayanagar 4 th Block'\n",
      " 'Near Vinayak Properties' 'Okhla Phase 2' 'Thrikkakara P.O'\n",
      " 'Railway Station Road' 'Athulya Infopark' 'Wilson Garden' 'Virar West'\n",
      " 'Kumbalangi' 'Mogappair East' 'A Block Preet Vihar' 'Sanjay Nagar'\n",
      " 'Suraram Main Road' 'Anna Nagar Chennai' 'Ernakulam Circle'\n",
      " 'Virugambakkam' 'Shop No - VG 16' '80Feet Main Road HBR Layout'\n",
      " 'Tamil Nadu 600006' '8 Block Subhash Nagar'\n",
      " 'Infopark - Smart City Short Road' 'KR Puram' 'Khan Market' 'Mehrauli'\n",
      " 'Beside ESSR Petrol pump' 'Srinagar Colony Road' 'Chinchpokli'\n",
      " 'Sector 28' 'Dilshad Garden' 'Outer Circle Connaught Place'\n",
      " 'Ernakulam Aluva' 'Adchini' 'Near Saroor Nagar' 'Sector 26' 'Ulhasnagar'\n",
      " 'S Block DLF Phase 3' 'Sowcarpet' 'Sector 8' 'New link Rd Oshiwara'\n",
      " 'Andheri west' 'CNK Salai' 'Green Park' 'Sector 54' 'Hiranandani Estate'\n",
      " 'Opposite Stella Petrol Pump Vasai' 'Thoraipakkam' 'Sector 25'\n",
      " 'Sector 15 Part 1' 'Sector 27' 'Opposite Opera House' 'Sector 44'\n",
      " 'MRC Nagar' 'Shakarpur' 'Ghaziabad' 'Chittethukara'\n",
      " 'Ernakulam Thopumpady' 'Yousufguda' 'Cherlapalli' '33' 'Marve'\n",
      " 'Kotturpuram' 'Bangalore Road' 'Near Mahindra World City'\n",
      " 'A yyavoo Colony' 'Kalwa' 'Malleswaram' 'Habibullah Road'\n",
      " '7th Sector HSR' 'Jubilee hills' 'Sector 56' 'Govindaswamy Nagar'\n",
      " 'International Airport' 'Ghansi Bazaar' 'Kondapur X Roads Kondapur'\n",
      " 'Mumbra' 'Sector 21' 'West Jogeshwar'\n",
      " 'Near Pallathu Raman Road Veli Fort Fort Kochi' 'Near Sector 31'\n",
      " 'Edappally Toll' 'LBS BKC Junction' 'Opposite Private Bus Stand'\n",
      " 'Bhayandar East' '4 Bungalows' 'Near Sector 34'\n",
      " 'Greater Kailash 2 (GK 2)' 'St. Marks Road' 'New Delhi' 'Vepery'\n",
      " 'Tughlakabad Institutional Area' 'Kaushambi' 'Maharashtra 400013'\n",
      " 'Near Jalahalli' 'Near Kundanahalli Signal' 'Adayar' 'Mahavir Nagar'\n",
      " 'P.O Kakkanad' 'Venkatagiri Jubilee Hills' 'J.N Road Anna Nagar West'\n",
      " 'Sector 53' 'Sikandarpur' 'Banjara hills' 'international Airport'\n",
      " 'sholinganallur' 'Erragadda' 'North Railway station' 'Chander Nagar'\n",
      " 'Cherry County' 'Near Apollo H' '7th Phase' 'PWD Quarters' 'Poonithura'\n",
      " 'Mazgaon' 'Near Karol Bagh' 'Tagore Garden' 'Near Passport Office'\n",
      " 'Sector 45' 'Jogeshwari West' 'North Kalamassery' 'Thrikkakara Circle'\n",
      " 'Lajpat Nagar 3' 'Guduvanchery' 'Old Bowenpally' 'Thiruvallur'\n",
      " 'Near Aster Medcity' 'Aurangzeb Road' 'Nehru Nagar' 'phase 3'\n",
      " 'Kacharakkanahalli'\n",
      " 'Beside Aditya Hospital Dwarakanagar colony H.S Darga Banjara Hills'\n",
      " 'Mumbai CST Area' 'Chawri Bazar' 'Sector 23' 'Chandavarkar Road'\n",
      " 'Pillar 178 East Patel Nagar' 'Near Vikaspuri' 'BN Reddy Nagar'\n",
      " 'Kadavanthra Part 1' '20/718 (Old No 12/275) Railway Station Road Aluva'\n",
      " '5th Phase' 'Kailash Colony' 'Zakir Nagar' 'Near Express Garden'\n",
      " 'Shahpur Jat' 'Thane west' 'Bengaluru' 'Ashok Vihar Phase 2'\n",
      " 'Off Carter Road' 'SRM Back Gate' 'Sector 86' 'Perry Cross Road']\n",
      "Kukatpally                                   54\n",
      "Kakkanad                                     54\n",
      "Whitefield                                   53\n",
      "Madhapur                                     52\n",
      "Gachibowli                                   50\n",
      "                                             ..\n",
      "Sector 27                                     1\n",
      "Mahesh Nagar Radhika circle A S Rao Nagar     1\n",
      "Telangana 500047                              1\n",
      "Thrikkakara P.O                               1\n",
      "Near Cross Point Mall                         1\n",
      "Name: locality, Length: 834, dtype: int64\n",
      "**********************************************************************\n",
      "\n",
      "\n",
      "rating:['4.3' '4.2' '3.8' '3.6' '3.7' 'NEW' '4.0' '3.4' '3.2' '4.1' '3.0' '-'\n",
      " '3.5' '4.5' '3.9' '3.3' '2.9' '3.1' '2.5' '2.8' '4.6' '4.4' '2.7' '4.8'\n",
      " '2.6' '4.9' '2.1' '4.7' '2.3' '2.4' '2.2' nan]\n",
      "3.8    414\n",
      "3.9    405\n",
      "4.0    399\n",
      "3.7    351\n",
      "3.6    310\n",
      "4.1    281\n",
      "4.2    245\n",
      "NEW    223\n",
      "3.5    217\n",
      "3.4    202\n",
      "4.3    184\n",
      "-      177\n",
      "4.4    122\n",
      "3.3    120\n",
      "3.2     83\n",
      "3.1     77\n",
      "4.5     75\n",
      "3.0     59\n",
      "2.9     56\n",
      "2.8     45\n",
      "4.6     43\n",
      "2.7     40\n",
      "2.6     24\n",
      "4.7     21\n",
      "4.8     17\n",
      "2.5     16\n",
      "2.4      9\n",
      "4.9      6\n",
      "2.3      5\n",
      "2.2      2\n",
      "2.1      1\n",
      "Name: rating, dtype: int64\n",
      "**********************************************************************\n",
      "\n",
      "\n",
      "votes:['564 votes' '61 votes' '350 votes' ... '1697 votes' '749 votes'\n",
      " '1239 votes']\n",
      "6 votes       30\n",
      "22 votes      26\n",
      "58 votes      26\n",
      "4 votes       24\n",
      "9 votes       24\n",
      "              ..\n",
      "749 votes      1\n",
      "465 votes      1\n",
      "1158 votes     1\n",
      "2194 votes     1\n",
      "5449 votes     1\n",
      "Name: votes, Length: 1136, dtype: int64\n",
      "**********************************************************************\n",
      "\n",
      "\n"
     ]
    }
   ],
   "source": [
    "# printing the object data type columns and their unique values of test\n",
    "for column in test.columns:\n",
    "    if test[column].dtypes==object:\n",
    "        print(str(column)+ ':' +str(test[column].unique()))\n",
    "        print(test[column].value_counts())\n",
    "        print('**********************************************************************')\n",
    "        print('\\n')"
   ]
  },
  {
   "cell_type": "code",
   "execution_count": 15,
   "metadata": {},
   "outputs": [],
   "source": [
    "#dealing with rating...it has some symbols and NEW as string\n",
    "train['rating']=train['rating'].str.replace('NEW','1')\n",
    "train['rating']=train['rating'].str.replace('-','1').astype(float)\n",
    "test['rating']=test['rating'].str.replace('NEW','1')\n",
    "test['rating']=test['rating'].str.replace('-','1').astype(float)"
   ]
  },
  {
   "cell_type": "code",
   "execution_count": 16,
   "metadata": {},
   "outputs": [],
   "source": [
    "#treating with vote\n",
    "train['votes']=train['votes'].str.replace('votes','').astype(float)\n",
    "test['votes']=test['votes'].str.replace('votes','').astype(float)\n"
   ]
  },
  {
   "cell_type": "code",
   "execution_count": 17,
   "metadata": {},
   "outputs": [],
   "source": [
    "#treating with missing values of train\n",
    "train.city.fillna(train.city.mode()[0],inplace=True)\n",
    "train.locality.fillna(train.locality.mode()[0],inplace=True)\n"
   ]
  },
  {
   "cell_type": "code",
   "execution_count": 18,
   "metadata": {},
   "outputs": [],
   "source": [
    "train.rating.fillna(value=0,inplace=True)\n",
    "train.votes.fillna(train.votes.mean(),inplace=True)"
   ]
  },
  {
   "cell_type": "code",
   "execution_count": 19,
   "metadata": {},
   "outputs": [
    {
     "data": {
      "text/plain": [
       "title            0\n",
       "restaurant_id    0\n",
       "cuisines         0\n",
       "time             0\n",
       "city             0\n",
       "locality         0\n",
       "rating           0\n",
       "votes            0\n",
       "cost             0\n",
       "dtype: int64"
      ]
     },
     "execution_count": 19,
     "metadata": {},
     "output_type": "execute_result"
    }
   ],
   "source": [
    "#checking removal of null values\n",
    "train.isnull().sum()"
   ]
  },
  {
   "cell_type": "markdown",
   "metadata": {},
   "source": [
    "all missing values we have replaced"
   ]
  },
  {
   "cell_type": "code",
   "execution_count": 20,
   "metadata": {},
   "outputs": [],
   "source": [
    "test.city.fillna(test.city.mode()[0],inplace=True)\n",
    "test.locality.fillna(test.locality.mode()[0],inplace=True)\n",
    "test.rating.fillna(value=0,inplace=True)\n",
    "test.votes.fillna(test.votes.mean(),inplace=True)"
   ]
  },
  {
   "cell_type": "code",
   "execution_count": 21,
   "metadata": {},
   "outputs": [
    {
     "data": {
      "text/plain": [
       "title            0\n",
       "restaurant_id    0\n",
       "cuisines         0\n",
       "time             0\n",
       "city             0\n",
       "locality         0\n",
       "rating           0\n",
       "votes            0\n",
       "dtype: int64"
      ]
     },
     "execution_count": 21,
     "metadata": {},
     "output_type": "execute_result"
    }
   ],
   "source": [
    "test.isnull().sum()"
   ]
  },
  {
   "cell_type": "code",
   "execution_count": 22,
   "metadata": {},
   "outputs": [
    {
     "data": {
      "text/html": [
       "<div>\n",
       "<style scoped>\n",
       "    .dataframe tbody tr th:only-of-type {\n",
       "        vertical-align: middle;\n",
       "    }\n",
       "\n",
       "    .dataframe tbody tr th {\n",
       "        vertical-align: top;\n",
       "    }\n",
       "\n",
       "    .dataframe thead th {\n",
       "        text-align: right;\n",
       "    }\n",
       "</style>\n",
       "<table border=\"1\" class=\"dataframe\">\n",
       "  <thead>\n",
       "    <tr style=\"text-align: right;\">\n",
       "      <th></th>\n",
       "      <th>rating</th>\n",
       "    </tr>\n",
       "    <tr>\n",
       "      <th>city</th>\n",
       "      <th></th>\n",
       "    </tr>\n",
       "  </thead>\n",
       "  <tbody>\n",
       "    <tr>\n",
       "      <th>10th avenue</th>\n",
       "      <td>3.6</td>\n",
       "    </tr>\n",
       "    <tr>\n",
       "      <th>1st Stage</th>\n",
       "      <td>3.8</td>\n",
       "    </tr>\n",
       "    <tr>\n",
       "      <th>1st Tavarekere</th>\n",
       "      <td>3.4</td>\n",
       "    </tr>\n",
       "    <tr>\n",
       "      <th>3rd Street</th>\n",
       "      <td>4.3</td>\n",
       "    </tr>\n",
       "    <tr>\n",
       "      <th>5th Main Teachers Colony Koramangala Block 1 Bangalore 560034</th>\n",
       "      <td>4.1</td>\n",
       "    </tr>\n",
       "    <tr>\n",
       "      <th>...</th>\n",
       "      <td>...</td>\n",
       "    </tr>\n",
       "    <tr>\n",
       "      <th>navi mumbai</th>\n",
       "      <td>3.9</td>\n",
       "    </tr>\n",
       "    <tr>\n",
       "      <th>opp gurudwara Shakurpur</th>\n",
       "      <td>3.8</td>\n",
       "    </tr>\n",
       "    <tr>\n",
       "      <th>opp mukteshwar ashram powai</th>\n",
       "      <td>4.7</td>\n",
       "    </tr>\n",
       "    <tr>\n",
       "      <th>p.o Kochi</th>\n",
       "      <td>3.2</td>\n",
       "    </tr>\n",
       "    <tr>\n",
       "      <th>ward X11</th>\n",
       "      <td>4.0</td>\n",
       "    </tr>\n",
       "  </tbody>\n",
       "</table>\n",
       "<p>359 rows × 1 columns</p>\n",
       "</div>"
      ],
      "text/plain": [
       "                                                    rating\n",
       "city                                                      \n",
       "10th avenue                                            3.6\n",
       "1st Stage                                              3.8\n",
       "1st Tavarekere                                         3.4\n",
       "3rd Street                                             4.3\n",
       "5th Main Teachers Colony Koramangala Block 1 Ba...     4.1\n",
       "...                                                    ...\n",
       "navi mumbai                                            3.9\n",
       "opp gurudwara Shakurpur                                3.8\n",
       "opp mukteshwar ashram powai                            4.7\n",
       "p.o Kochi                                              3.2\n",
       "ward X11                                               4.0\n",
       "\n",
       "[359 rows x 1 columns]"
      ]
     },
     "execution_count": 22,
     "metadata": {},
     "output_type": "execute_result"
    }
   ],
   "source": [
    "#calculating the mean ratings city wise\n",
    "mean_city_rating=train.groupby(['city'],axis=0).agg({'rating':'mean'})\n",
    "mean_city_rating"
   ]
  },
  {
   "cell_type": "code",
   "execution_count": 23,
   "metadata": {},
   "outputs": [
    {
     "data": {
      "text/plain": [
       "<matplotlib.axes._subplots.AxesSubplot at 0x8619076c48>"
      ]
     },
     "execution_count": 23,
     "metadata": {},
     "output_type": "execute_result"
    },
    {
     "data": {
      "image/png": "[encoded data removed]",
      "text/plain": [
       "<Figure size 1728x1296 with 1 Axes>"
      ]
     },
     "metadata": {
      "needs_background": "light"
     },
     "output_type": "display_data"
    }
   ],
   "source": [
    "plt.figure(figsize=(24,18))\n",
    "sns.lineplot(x=train['city'],y=train['rating'],data=train)"
   ]
  },
  {
   "cell_type": "markdown",
   "metadata": {},
   "source": [
    "Most of the cities having rating from 3.5 to 4.5"
   ]
  },
  {
   "cell_type": "code",
   "execution_count": 24,
   "metadata": {},
   "outputs": [
    {
     "data": {
      "text/html": [
       "<div>\n",
       "<style scoped>\n",
       "    .dataframe tbody tr th:only-of-type {\n",
       "        vertical-align: middle;\n",
       "    }\n",
       "\n",
       "    .dataframe tbody tr th {\n",
       "        vertical-align: top;\n",
       "    }\n",
       "\n",
       "    .dataframe thead th {\n",
       "        text-align: right;\n",
       "    }\n",
       "</style>\n",
       "<table border=\"1\" class=\"dataframe\">\n",
       "  <thead>\n",
       "    <tr style=\"text-align: right;\">\n",
       "      <th></th>\n",
       "      <th>rating</th>\n",
       "    </tr>\n",
       "    <tr>\n",
       "      <th>locality</th>\n",
       "      <th></th>\n",
       "    </tr>\n",
       "  </thead>\n",
       "  <tbody>\n",
       "    <tr>\n",
       "      <th>(Main Market) Mayur Vihar Phase 2</th>\n",
       "      <td>4.0</td>\n",
       "    </tr>\n",
       "    <tr>\n",
       "      <th>1 st Cross street</th>\n",
       "      <td>3.6</td>\n",
       "    </tr>\n",
       "    <tr>\n",
       "      <th>1-7-172/1 Ecil Opposite</th>\n",
       "      <td>3.8</td>\n",
       "    </tr>\n",
       "    <tr>\n",
       "      <th>100 Ft Road</th>\n",
       "      <td>3.0</td>\n",
       "    </tr>\n",
       "    <tr>\n",
       "      <th>110009</th>\n",
       "      <td>4.4</td>\n",
       "    </tr>\n",
       "    <tr>\n",
       "      <th>...</th>\n",
       "      <td>...</td>\n",
       "    </tr>\n",
       "    <tr>\n",
       "      <th>rajendra nagar</th>\n",
       "      <td>3.2</td>\n",
       "    </tr>\n",
       "    <tr>\n",
       "      <th>seawoods grand central mall</th>\n",
       "      <td>3.9</td>\n",
       "    </tr>\n",
       "    <tr>\n",
       "      <th>sector 42</th>\n",
       "      <td>1.0</td>\n",
       "    </tr>\n",
       "    <tr>\n",
       "      <th>shop 7 shikrupa socity</th>\n",
       "      <td>4.1</td>\n",
       "    </tr>\n",
       "    <tr>\n",
       "      <th>shop no. 3 Sector 22</th>\n",
       "      <td>3.8</td>\n",
       "    </tr>\n",
       "  </tbody>\n",
       "</table>\n",
       "<p>1416 rows × 1 columns</p>\n",
       "</div>"
      ],
      "text/plain": [
       "                                   rating\n",
       "locality                                 \n",
       "(Main Market) Mayur Vihar Phase 2     4.0\n",
       "1 st Cross street                     3.6\n",
       "1-7-172/1 Ecil Opposite               3.8\n",
       "100 Ft Road                           3.0\n",
       "110009                                4.4\n",
       "...                                   ...\n",
       "rajendra nagar                        3.2\n",
       "seawoods grand central mall           3.9\n",
       "sector 42                             1.0\n",
       "shop 7 shikrupa socity                4.1\n",
       "shop no. 3 Sector 22                  3.8\n",
       "\n",
       "[1416 rows x 1 columns]"
      ]
     },
     "execution_count": 24,
     "metadata": {},
     "output_type": "execute_result"
    }
   ],
   "source": [
    "#calculating the mean ratings locality wise\n",
    "mean_locality_rating=train.groupby(['locality'],axis=0).agg({'rating':'mean'})\n",
    "mean_locality_rating"
   ]
  },
  {
   "cell_type": "code",
   "execution_count": 25,
   "metadata": {},
   "outputs": [
    {
     "data": {
      "text/html": [
       "<div>\n",
       "<style scoped>\n",
       "    .dataframe tbody tr th:only-of-type {\n",
       "        vertical-align: middle;\n",
       "    }\n",
       "\n",
       "    .dataframe tbody tr th {\n",
       "        vertical-align: top;\n",
       "    }\n",
       "\n",
       "    .dataframe thead th {\n",
       "        text-align: right;\n",
       "    }\n",
       "</style>\n",
       "<table border=\"1\" class=\"dataframe\">\n",
       "  <thead>\n",
       "    <tr style=\"text-align: right;\">\n",
       "      <th></th>\n",
       "      <th>title</th>\n",
       "      <th>restaurant_id</th>\n",
       "      <th>cuisines</th>\n",
       "      <th>time</th>\n",
       "      <th>city</th>\n",
       "      <th>locality</th>\n",
       "      <th>rating</th>\n",
       "      <th>votes</th>\n",
       "      <th>cost</th>\n",
       "    </tr>\n",
       "  </thead>\n",
       "  <tbody>\n",
       "    <tr>\n",
       "      <th>0</th>\n",
       "      <td>CASUAL DINING</td>\n",
       "      <td>9438</td>\n",
       "      <td>Malwani, Goan, North Indian</td>\n",
       "      <td>11am – 4pm, 7:30pm – 11:30pm (Mon-Sun)</td>\n",
       "      <td>Thane</td>\n",
       "      <td>Dombivali East</td>\n",
       "      <td>3.6</td>\n",
       "      <td>49.0</td>\n",
       "      <td>1200</td>\n",
       "    </tr>\n",
       "    <tr>\n",
       "      <th>1</th>\n",
       "      <td>CASUAL DINING,BAR</td>\n",
       "      <td>13198</td>\n",
       "      <td>Asian, Modern Indian, Japanese</td>\n",
       "      <td>6pm – 11pm (Mon-Sun)</td>\n",
       "      <td>Chennai</td>\n",
       "      <td>Ramapuram</td>\n",
       "      <td>4.2</td>\n",
       "      <td>30.0</td>\n",
       "      <td>1500</td>\n",
       "    </tr>\n",
       "    <tr>\n",
       "      <th>2</th>\n",
       "      <td>CASUAL DINING</td>\n",
       "      <td>10915</td>\n",
       "      <td>North Indian, Chinese, Biryani, Hyderabadi</td>\n",
       "      <td>11am – 3:30pm, 7pm – 11pm (Mon-Sun)</td>\n",
       "      <td>Chennai</td>\n",
       "      <td>Saligramam</td>\n",
       "      <td>3.8</td>\n",
       "      <td>221.0</td>\n",
       "      <td>800</td>\n",
       "    </tr>\n",
       "    <tr>\n",
       "      <th>3</th>\n",
       "      <td>QUICK BITES</td>\n",
       "      <td>6346</td>\n",
       "      <td>Tibetan, Chinese</td>\n",
       "      <td>11:30am – 1am (Mon-Sun)</td>\n",
       "      <td>Mumbai</td>\n",
       "      <td>Bandra West</td>\n",
       "      <td>4.1</td>\n",
       "      <td>24.0</td>\n",
       "      <td>800</td>\n",
       "    </tr>\n",
       "    <tr>\n",
       "      <th>4</th>\n",
       "      <td>DESSERT PARLOR</td>\n",
       "      <td>15387</td>\n",
       "      <td>Desserts</td>\n",
       "      <td>11am – 1am (Mon-Sun)</td>\n",
       "      <td>Mumbai</td>\n",
       "      <td>Lower Parel</td>\n",
       "      <td>3.8</td>\n",
       "      <td>165.0</td>\n",
       "      <td>300</td>\n",
       "    </tr>\n",
       "  </tbody>\n",
       "</table>\n",
       "</div>"
      ],
      "text/plain": [
       "               title  restaurant_id  \\\n",
       "0      CASUAL DINING           9438   \n",
       "1  CASUAL DINING,BAR          13198   \n",
       "2      CASUAL DINING          10915   \n",
       "3        QUICK BITES           6346   \n",
       "4     DESSERT PARLOR          15387   \n",
       "\n",
       "                                     cuisines  \\\n",
       "0                 Malwani, Goan, North Indian   \n",
       "1              Asian, Modern Indian, Japanese   \n",
       "2  North Indian, Chinese, Biryani, Hyderabadi   \n",
       "3                            Tibetan, Chinese   \n",
       "4                                    Desserts   \n",
       "\n",
       "                                     time     city        locality  rating  \\\n",
       "0  11am – 4pm, 7:30pm – 11:30pm (Mon-Sun)    Thane  Dombivali East     3.6   \n",
       "1                    6pm – 11pm (Mon-Sun)  Chennai       Ramapuram     4.2   \n",
       "2     11am – 3:30pm, 7pm – 11pm (Mon-Sun)  Chennai      Saligramam     3.8   \n",
       "3                 11:30am – 1am (Mon-Sun)   Mumbai     Bandra West     4.1   \n",
       "4                    11am – 1am (Mon-Sun)   Mumbai     Lower Parel     3.8   \n",
       "\n",
       "   votes  cost  \n",
       "0   49.0  1200  \n",
       "1   30.0  1500  \n",
       "2  221.0   800  \n",
       "3   24.0   800  \n",
       "4  165.0   300  "
      ]
     },
     "execution_count": 25,
     "metadata": {},
     "output_type": "execute_result"
    }
   ],
   "source": [
    "train.head()"
   ]
  },
  {
   "cell_type": "code",
   "execution_count": 26,
   "metadata": {},
   "outputs": [],
   "source": [
    "#converting categorical into numerical forms using label encoder\n",
    "list=['title','cuisines','city','locality']\n",
    "from sklearn.preprocessing import LabelEncoder\n",
    "lb=LabelEncoder()\n",
    "for i in list:\n",
    "    train[i]=lb.fit_transform(train[i])\n"
   ]
  },
  {
   "cell_type": "code",
   "execution_count": 27,
   "metadata": {},
   "outputs": [
    {
     "data": {
      "text/html": [
       "<div>\n",
       "<style scoped>\n",
       "    .dataframe tbody tr th:only-of-type {\n",
       "        vertical-align: middle;\n",
       "    }\n",
       "\n",
       "    .dataframe tbody tr th {\n",
       "        vertical-align: top;\n",
       "    }\n",
       "\n",
       "    .dataframe thead th {\n",
       "        text-align: right;\n",
       "    }\n",
       "</style>\n",
       "<table border=\"1\" class=\"dataframe\">\n",
       "  <thead>\n",
       "    <tr style=\"text-align: right;\">\n",
       "      <th></th>\n",
       "      <th>title</th>\n",
       "      <th>restaurant_id</th>\n",
       "      <th>cuisines</th>\n",
       "      <th>time</th>\n",
       "      <th>city</th>\n",
       "      <th>locality</th>\n",
       "      <th>rating</th>\n",
       "      <th>votes</th>\n",
       "      <th>cost</th>\n",
       "    </tr>\n",
       "  </thead>\n",
       "  <tbody>\n",
       "    <tr>\n",
       "      <th>0</th>\n",
       "      <td>31</td>\n",
       "      <td>9438</td>\n",
       "      <td>2627</td>\n",
       "      <td>11am – 4pm, 7:30pm – 11:30pm (Mon-Sun)</td>\n",
       "      <td>320</td>\n",
       "      <td>285</td>\n",
       "      <td>3.6</td>\n",
       "      <td>49.0</td>\n",
       "      <td>1200</td>\n",
       "    </tr>\n",
       "    <tr>\n",
       "      <th>1</th>\n",
       "      <td>33</td>\n",
       "      <td>13198</td>\n",
       "      <td>289</td>\n",
       "      <td>6pm – 11pm (Mon-Sun)</td>\n",
       "      <td>67</td>\n",
       "      <td>1046</td>\n",
       "      <td>4.2</td>\n",
       "      <td>30.0</td>\n",
       "      <td>1500</td>\n",
       "    </tr>\n",
       "    <tr>\n",
       "      <th>2</th>\n",
       "      <td>31</td>\n",
       "      <td>10915</td>\n",
       "      <td>2976</td>\n",
       "      <td>11am – 3:30pm, 7pm – 11pm (Mon-Sun)</td>\n",
       "      <td>67</td>\n",
       "      <td>1101</td>\n",
       "      <td>3.8</td>\n",
       "      <td>221.0</td>\n",
       "      <td>800</td>\n",
       "    </tr>\n",
       "    <tr>\n",
       "      <th>3</th>\n",
       "      <td>95</td>\n",
       "      <td>6346</td>\n",
       "      <td>4130</td>\n",
       "      <td>11:30am – 1am (Mon-Sun)</td>\n",
       "      <td>222</td>\n",
       "      <td>136</td>\n",
       "      <td>4.1</td>\n",
       "      <td>24.0</td>\n",
       "      <td>800</td>\n",
       "    </tr>\n",
       "    <tr>\n",
       "      <th>4</th>\n",
       "      <td>50</td>\n",
       "      <td>15387</td>\n",
       "      <td>1766</td>\n",
       "      <td>11am – 1am (Mon-Sun)</td>\n",
       "      <td>222</td>\n",
       "      <td>620</td>\n",
       "      <td>3.8</td>\n",
       "      <td>165.0</td>\n",
       "      <td>300</td>\n",
       "    </tr>\n",
       "  </tbody>\n",
       "</table>\n",
       "</div>"
      ],
      "text/plain": [
       "   title  restaurant_id  cuisines                                    time  \\\n",
       "0     31           9438      2627  11am – 4pm, 7:30pm – 11:30pm (Mon-Sun)   \n",
       "1     33          13198       289                    6pm – 11pm (Mon-Sun)   \n",
       "2     31          10915      2976     11am – 3:30pm, 7pm – 11pm (Mon-Sun)   \n",
       "3     95           6346      4130                 11:30am – 1am (Mon-Sun)   \n",
       "4     50          15387      1766                    11am – 1am (Mon-Sun)   \n",
       "\n",
       "   city  locality  rating  votes  cost  \n",
       "0   320       285     3.6   49.0  1200  \n",
       "1    67      1046     4.2   30.0  1500  \n",
       "2    67      1101     3.8  221.0   800  \n",
       "3   222       136     4.1   24.0   800  \n",
       "4   222       620     3.8  165.0   300  "
      ]
     },
     "execution_count": 27,
     "metadata": {},
     "output_type": "execute_result"
    }
   ],
   "source": [
    "train.head()"
   ]
  },
  {
   "cell_type": "code",
   "execution_count": 28,
   "metadata": {},
   "outputs": [
    {
     "data": {
      "text/plain": [
       "<matplotlib.axes._subplots.AxesSubplot at 0x861fa2c908>"
      ]
     },
     "execution_count": 28,
     "metadata": {},
     "output_type": "execute_result"
    },
    {
     "data": {
      "image/png": "[encoded data removed]",
      "text/plain": [
       "<Figure size 432x288 with 2 Axes>"
      ]
     },
     "metadata": {
      "needs_background": "light"
     },
     "output_type": "display_data"
    }
   ],
   "source": [
    "#checking correlation\n",
    "sns.heatmap(train.corr(),annot=True,cmap='Blues')"
   ]
  },
  {
   "cell_type": "markdown",
   "metadata": {},
   "source": [
    "As cost is more negatively correlated with locality lets drop it and time also not considering"
   ]
  },
  {
   "cell_type": "code",
   "execution_count": 29,
   "metadata": {},
   "outputs": [],
   "source": [
    "train.drop(['time','locality'],axis=1,inplace=True)"
   ]
  },
  {
   "cell_type": "code",
   "execution_count": 30,
   "metadata": {},
   "outputs": [
    {
     "data": {
      "text/plain": [
       "title            -0.069803\n",
       "restaurant_id     0.006947\n",
       "cuisines         -0.218782\n",
       "city              0.266332\n",
       "rating           -1.876192\n",
       "votes            14.890494\n",
       "cost              3.978801\n",
       "dtype: float64"
      ]
     },
     "execution_count": 30,
     "metadata": {},
     "output_type": "execute_result"
    }
   ],
   "source": [
    "#checking skewness\n",
    "train.skew()"
   ]
  },
  {
   "cell_type": "code",
   "execution_count": 31,
   "metadata": {},
   "outputs": [
    {
     "data": {
      "image/png": "[encoded data removed]",
      "text/plain": [
       "<Figure size 864x4320 with 6 Axes>"
      ]
     },
     "metadata": {
      "needs_background": "light"
     },
     "output_type": "display_data"
    }
   ],
   "source": [
    "# plotting outliers\n",
    "collist=train.columns.values\n",
    "ncol=12\n",
    "nrows=10\n",
    "collist\n",
    "plt.figure(figsize=(ncol, 5*ncol))\n",
    "for i in range(1,len(collist)):\n",
    "    plt.subplot(nrows,ncol,i+1)\n",
    "    sns.boxplot(train[collist[i]],color='green',orient='v')\n",
    "    plt.tight_layout()\n",
    "    \n",
    "           "
   ]
  },
  {
   "cell_type": "markdown",
   "metadata": {},
   "source": [
    "there are outliers in the train dataset so lets remove it\n",
    "\n"
   ]
  },
  {
   "cell_type": "code",
   "execution_count": 32,
   "metadata": {},
   "outputs": [
    {
     "data": {
      "text/plain": [
       "array([[0.86888688, 0.37269233, 0.32540837, ..., 0.08677487, 0.45735622,\n",
       "        0.86884552],\n",
       "       [0.80783894, 1.20737672, 1.61638078, ..., 0.74596262, 0.48105544,\n",
       "        1.34733058],\n",
       "       [0.86888688, 0.70057234, 0.61526483, ..., 0.30650412, 0.24281588,\n",
       "        0.23086546],\n",
       "       ...,\n",
       "       [0.35207201, 0.74896628, 0.12224961, ..., 0.52623337, 0.23989988,\n",
       "        1.02834054],\n",
       "       [0.86888688, 0.36076439, 1.055448  , ..., 0.02308975, 0.47856079,\n",
       "        0.40711461],\n",
       "       [0.86888688, 0.29505519, 0.59034881, ..., 0.13295438, 0.32596548,\n",
       "        0.08812458]])"
      ]
     },
     "execution_count": 32,
     "metadata": {},
     "output_type": "execute_result"
    }
   ],
   "source": [
    "#removing outliers\n",
    "from scipy.stats import zscore\n",
    "z=np.abs(zscore(train))\n",
    "z"
   ]
  },
  {
   "cell_type": "code",
   "execution_count": 33,
   "metadata": {},
   "outputs": [
    {
     "name": "stdout",
     "output_type": "stream",
     "text": [
      "(array([   84,   186,   196,   204,   208,   293,   303,   304,   308,\n",
      "         337,   344,   354,   379,   421,   422,   431,   469,   502,\n",
      "         510,   563,   731,   775,   796,   839,   852,   855,   872,\n",
      "         913,   966,   967,   973,  1034,  1038,  1132,  1133,  1147,\n",
      "        1151,  1193,  1244,  1288,  1345,  1346,  1395,  1467,  1470,\n",
      "        1475,  1476,  1522,  1540,  1594,  1617,  1632,  1657,  1681,\n",
      "        1685,  1759,  1778,  1828,  1850,  1878,  1884,  1916,  1930,\n",
      "        1931,  2090,  2100,  2111,  2204,  2205,  2207,  2268,  2302,\n",
      "        2305,  2333,  2339,  2349,  2369,  2459,  2488,  2531,  2604,\n",
      "        2610,  2622,  2683,  2686,  2689,  2695,  2740,  2886,  2905,\n",
      "        2940,  2973,  2977,  3002,  3028,  3033,  3036,  3049,  3197,\n",
      "        3211,  3289,  3309,  3333,  3338,  3396,  3398,  3408,  3492,\n",
      "        3507,  3526,  3532,  3554,  3578,  3587,  3603,  3688,  3692,\n",
      "        3704,  3706,  3715,  3728,  3730,  3773,  3841,  3847,  3855,\n",
      "        3877,  3891,  3896,  3905,  3909,  3942,  3952,  3953,  3962,\n",
      "        3974,  3987,  4124,  4147,  4152,  4192,  4193,  4224,  4268,\n",
      "        4273,  4279,  4285,  4298,  4323,  4367,  4470,  4494,  4512,\n",
      "        4524,  4554,  4557,  4558,  4578,  4592,  4618,  4628,  4634,\n",
      "        4647,  4658,  4659,  4691,  4693,  4708,  4709,  4728,  4760,\n",
      "        4768,  4855,  4904,  4931,  4947,  4987,  5078,  5098,  5108,\n",
      "        5133,  5140,  5173,  5202,  5257,  5264,  5375,  5492,  5502,\n",
      "        5588,  5594,  5629,  5662,  5774,  5792,  5836,  5841,  5843,\n",
      "        5874,  5880,  5897,  5934,  5944,  5969,  5975,  5996,  6005,\n",
      "        6024,  6136,  6142,  6147,  6343,  6390,  6421,  6446,  6448,\n",
      "        6472,  6475,  6496,  6505,  6506,  6519,  6608,  6640,  6644,\n",
      "        6649,  6684,  6690,  6714,  6760,  6804,  6878,  6922,  6949,\n",
      "        6982,  6997,  7028,  7034,  7034,  7059,  7073,  7078,  7189,\n",
      "        7202,  7262,  7275,  7316,  7362,  7369,  7442,  7459,  7494,\n",
      "        7572,  7626,  7630,  7784,  7808,  7822,  7883,  7901,  7988,\n",
      "        7997,  8009,  8065,  8078,  8106,  8123,  8143,  8164,  8184,\n",
      "        8222,  8234,  8311,  8370,  8400,  8442,  8448,  8459,  8472,\n",
      "        8509,  8510,  8577,  8578,  8598,  8606,  8630,  8659,  8674,\n",
      "        8680,  8709,  8797,  8837,  8839,  8907,  8925,  8965,  9008,\n",
      "        9017,  9022,  9022,  9067,  9069,  9074,  9088,  9100,  9124,\n",
      "        9132,  9200,  9227,  9281,  9288,  9300,  9546,  9552,  9577,\n",
      "        9580,  9586,  9609,  9616,  9617,  9702,  9770,  9775,  9783,\n",
      "        9809,  9830,  9876,  9878,  9884,  9894,  9903,  9941, 10043,\n",
      "       10065, 10065, 10143, 10168, 10219, 10221, 10257, 10266, 10275,\n",
      "       10278, 10280, 10320, 10345, 10364, 10365, 10380, 10465, 10467,\n",
      "       10480, 10538, 10546, 10568, 10628, 10629, 10636, 10677, 10727,\n",
      "       10736, 10863, 10868, 10895, 10898, 10907, 10948, 10950, 11021,\n",
      "       11073, 11125, 11129, 11130, 11146, 11147, 11158, 11170, 11179,\n",
      "       11197, 11216, 11232, 11269, 11295, 11373, 11377, 11410, 11441,\n",
      "       11457, 11475, 11521, 11568, 11657, 11704, 11714, 11785, 11786,\n",
      "       11798, 11804, 11847, 11861, 11904, 11926, 11936, 11943, 11954,\n",
      "       11972, 12021, 12050, 12083, 12120, 12138, 12143, 12196, 12236,\n",
      "       12271, 12271, 12318, 12338, 12352, 12360, 12413, 12422, 12426,\n",
      "       12506, 12562, 12628, 12668], dtype=int64), array([6, 5, 5, 4, 6, 5, 5, 5, 6, 6, 5, 5, 6, 4, 6, 5, 6, 6, 5, 6, 6, 5,\n",
      "       5, 6, 5, 5, 5, 5, 6, 6, 6, 5, 5, 5, 6, 5, 5, 6, 5, 6, 6, 5, 6, 5,\n",
      "       6, 6, 5, 5, 5, 6, 5, 6, 6, 5, 5, 6, 6, 6, 5, 6, 6, 6, 6, 6, 5, 6,\n",
      "       6, 5, 6, 6, 5, 5, 5, 6, 6, 6, 6, 6, 6, 6, 6, 6, 6, 6, 6, 6, 6, 6,\n",
      "       5, 5, 6, 6, 5, 6, 5, 5, 6, 6, 6, 6, 5, 6, 5, 6, 6, 5, 5, 6, 5, 6,\n",
      "       6, 6, 5, 5, 6, 6, 6, 6, 5, 6, 5, 6, 6, 5, 6, 5, 5, 6, 6, 6, 5, 6,\n",
      "       5, 6, 6, 5, 5, 5, 6, 6, 5, 5, 6, 5, 6, 6, 6, 6, 6, 5, 5, 6, 5, 6,\n",
      "       6, 5, 6, 5, 5, 5, 5, 5, 5, 5, 6, 5, 6, 6, 5, 6, 5, 5, 5, 6, 6, 5,\n",
      "       5, 5, 6, 6, 6, 5, 6, 6, 5, 6, 5, 5, 5, 6, 5, 5, 5, 5, 5, 5, 6, 6,\n",
      "       6, 5, 5, 6, 6, 5, 6, 5, 5, 6, 6, 5, 6, 6, 5, 5, 5, 5, 5, 6, 5, 6,\n",
      "       5, 5, 5, 6, 6, 5, 5, 5, 5, 5, 6, 5, 5, 6, 5, 6, 5, 5, 6, 5, 6, 6,\n",
      "       5, 5, 5, 6, 6, 6, 6, 6, 5, 5, 6, 5, 6, 6, 6, 6, 6, 6, 5, 5, 5, 6,\n",
      "       6, 6, 5, 6, 6, 6, 6, 6, 6, 6, 5, 6, 5, 5, 6, 5, 5, 6, 5, 6, 6, 5,\n",
      "       6, 5, 6, 6, 5, 6, 6, 6, 5, 6, 6, 5, 5, 6, 6, 6, 6, 6, 6, 5, 6, 5,\n",
      "       5, 5, 6, 5, 5, 5, 5, 6, 6, 6, 5, 6, 5, 6, 6, 5, 5, 6, 5, 5, 6, 6,\n",
      "       6, 5, 6, 5, 6, 6, 5, 5, 5, 6, 5, 6, 6, 6, 6, 6, 6, 5, 5, 5, 6, 5,\n",
      "       5, 6, 5, 5, 5, 6, 6, 5, 5, 5, 5, 5, 5, 6, 6, 6, 5, 5, 5, 6, 6, 6,\n",
      "       6, 6, 5, 5, 5, 5, 6, 6, 5, 5, 6, 5, 5, 6, 6, 6, 6, 5, 6, 6, 6, 5,\n",
      "       6, 6, 6, 5, 5, 6, 6, 6, 5, 6, 5, 5, 5, 5, 5, 5, 5, 5, 5, 6, 6, 5,\n",
      "       6, 5, 6, 6, 6, 5, 6, 5, 6], dtype=int64))\n"
     ]
    }
   ],
   "source": [
    "threshold=3\n",
    "print(np.where(z>3))"
   ]
  },
  {
   "cell_type": "code",
   "execution_count": 34,
   "metadata": {},
   "outputs": [
    {
     "data": {
      "text/html": [
       "<div>\n",
       "<style scoped>\n",
       "    .dataframe tbody tr th:only-of-type {\n",
       "        vertical-align: middle;\n",
       "    }\n",
       "\n",
       "    .dataframe tbody tr th {\n",
       "        vertical-align: top;\n",
       "    }\n",
       "\n",
       "    .dataframe thead th {\n",
       "        text-align: right;\n",
       "    }\n",
       "</style>\n",
       "<table border=\"1\" class=\"dataframe\">\n",
       "  <thead>\n",
       "    <tr style=\"text-align: right;\">\n",
       "      <th></th>\n",
       "      <th>title</th>\n",
       "      <th>restaurant_id</th>\n",
       "      <th>cuisines</th>\n",
       "      <th>city</th>\n",
       "      <th>rating</th>\n",
       "      <th>votes</th>\n",
       "      <th>cost</th>\n",
       "    </tr>\n",
       "  </thead>\n",
       "  <tbody>\n",
       "    <tr>\n",
       "      <th>0</th>\n",
       "      <td>31</td>\n",
       "      <td>9438</td>\n",
       "      <td>2627</td>\n",
       "      <td>320</td>\n",
       "      <td>3.6</td>\n",
       "      <td>49.0</td>\n",
       "      <td>1200</td>\n",
       "    </tr>\n",
       "    <tr>\n",
       "      <th>1</th>\n",
       "      <td>33</td>\n",
       "      <td>13198</td>\n",
       "      <td>289</td>\n",
       "      <td>67</td>\n",
       "      <td>4.2</td>\n",
       "      <td>30.0</td>\n",
       "      <td>1500</td>\n",
       "    </tr>\n",
       "    <tr>\n",
       "      <th>2</th>\n",
       "      <td>31</td>\n",
       "      <td>10915</td>\n",
       "      <td>2976</td>\n",
       "      <td>67</td>\n",
       "      <td>3.8</td>\n",
       "      <td>221.0</td>\n",
       "      <td>800</td>\n",
       "    </tr>\n",
       "    <tr>\n",
       "      <th>3</th>\n",
       "      <td>95</td>\n",
       "      <td>6346</td>\n",
       "      <td>4130</td>\n",
       "      <td>222</td>\n",
       "      <td>4.1</td>\n",
       "      <td>24.0</td>\n",
       "      <td>800</td>\n",
       "    </tr>\n",
       "    <tr>\n",
       "      <th>4</th>\n",
       "      <td>50</td>\n",
       "      <td>15387</td>\n",
       "      <td>1766</td>\n",
       "      <td>222</td>\n",
       "      <td>3.8</td>\n",
       "      <td>165.0</td>\n",
       "      <td>300</td>\n",
       "    </tr>\n",
       "    <tr>\n",
       "      <th>...</th>\n",
       "      <td>...</td>\n",
       "      <td>...</td>\n",
       "      <td>...</td>\n",
       "      <td>...</td>\n",
       "      <td>...</td>\n",
       "      <td>...</td>\n",
       "      <td>...</td>\n",
       "    </tr>\n",
       "    <tr>\n",
       "      <th>12685</th>\n",
       "      <td>95</td>\n",
       "      <td>13228</td>\n",
       "      <td>2934</td>\n",
       "      <td>131</td>\n",
       "      <td>3.8</td>\n",
       "      <td>546.0</td>\n",
       "      <td>500</td>\n",
       "    </tr>\n",
       "    <tr>\n",
       "      <th>12686</th>\n",
       "      <td>33</td>\n",
       "      <td>9686</td>\n",
       "      <td>2143</td>\n",
       "      <td>222</td>\n",
       "      <td>4.3</td>\n",
       "      <td>1214.0</td>\n",
       "      <td>1800</td>\n",
       "    </tr>\n",
       "    <tr>\n",
       "      <th>12687</th>\n",
       "      <td>71</td>\n",
       "      <td>11133</td>\n",
       "      <td>2088</td>\n",
       "      <td>239</td>\n",
       "      <td>4.0</td>\n",
       "      <td>608.0</td>\n",
       "      <td>1300</td>\n",
       "    </tr>\n",
       "    <tr>\n",
       "      <th>12688</th>\n",
       "      <td>31</td>\n",
       "      <td>6134</td>\n",
       "      <td>3506</td>\n",
       "      <td>67</td>\n",
       "      <td>3.5</td>\n",
       "      <td>32.0</td>\n",
       "      <td>400</td>\n",
       "    </tr>\n",
       "    <tr>\n",
       "      <th>12689</th>\n",
       "      <td>31</td>\n",
       "      <td>6430</td>\n",
       "      <td>2946</td>\n",
       "      <td>131</td>\n",
       "      <td>3.4</td>\n",
       "      <td>677.0</td>\n",
       "      <td>600</td>\n",
       "    </tr>\n",
       "  </tbody>\n",
       "</table>\n",
       "<p>12267 rows × 7 columns</p>\n",
       "</div>"
      ],
      "text/plain": [
       "       title  restaurant_id  cuisines  city  rating   votes  cost\n",
       "0         31           9438      2627   320     3.6    49.0  1200\n",
       "1         33          13198       289    67     4.2    30.0  1500\n",
       "2         31          10915      2976    67     3.8   221.0   800\n",
       "3         95           6346      4130   222     4.1    24.0   800\n",
       "4         50          15387      1766   222     3.8   165.0   300\n",
       "...      ...            ...       ...   ...     ...     ...   ...\n",
       "12685     95          13228      2934   131     3.8   546.0   500\n",
       "12686     33           9686      2143   222     4.3  1214.0  1800\n",
       "12687     71          11133      2088   239     4.0   608.0  1300\n",
       "12688     31           6134      3506    67     3.5    32.0   400\n",
       "12689     31           6430      2946   131     3.4   677.0   600\n",
       "\n",
       "[12267 rows x 7 columns]"
      ]
     },
     "execution_count": 34,
     "metadata": {},
     "output_type": "execute_result"
    }
   ],
   "source": [
    "train=train[(z<3).all (axis=1)]\n",
    "train"
   ]
  },
  {
   "cell_type": "code",
   "execution_count": 35,
   "metadata": {},
   "outputs": [
    {
     "data": {
      "text/plain": [
       "(12267, 7)"
      ]
     },
     "execution_count": 35,
     "metadata": {},
     "output_type": "execute_result"
    }
   ],
   "source": [
    "train.shape"
   ]
  },
  {
   "cell_type": "code",
   "execution_count": 36,
   "metadata": {},
   "outputs": [
    {
     "data": {
      "text/plain": [
       "title           -0.082042\n",
       "restaurant_id    0.013433\n",
       "cuisines        -0.216835\n",
       "city             0.282020\n",
       "rating          -1.857765\n",
       "votes            2.531256\n",
       "cost             1.822339\n",
       "dtype: float64"
      ]
     },
     "execution_count": 36,
     "metadata": {},
     "output_type": "execute_result"
    }
   ],
   "source": [
    "#again checking skewness\n",
    "train.skew()"
   ]
  },
  {
   "cell_type": "code",
   "execution_count": 37,
   "metadata": {},
   "outputs": [],
   "source": [
    "#removing skewness as votes and cost is having skewness\n",
    "train['votes']=np.sqrt(train['votes'])\n",
    "train['cost']=np.sqrt(train['cost'])"
   ]
  },
  {
   "cell_type": "code",
   "execution_count": 38,
   "metadata": {},
   "outputs": [
    {
     "data": {
      "text/plain": [
       "title           -0.082042\n",
       "restaurant_id    0.013433\n",
       "cuisines        -0.216835\n",
       "city             0.282020\n",
       "rating          -1.857765\n",
       "votes            1.079451\n",
       "cost             1.019321\n",
       "dtype: float64"
      ]
     },
     "execution_count": 38,
     "metadata": {},
     "output_type": "execute_result"
    }
   ],
   "source": [
    "train.skew()"
   ]
  },
  {
   "cell_type": "markdown",
   "metadata": {},
   "source": [
    "# Feature selection"
   ]
  },
  {
   "cell_type": "code",
   "execution_count": 39,
   "metadata": {},
   "outputs": [],
   "source": [
    "x=train.drop('cost',axis=1)\n",
    "y=train['cost']"
   ]
  },
  {
   "cell_type": "code",
   "execution_count": 40,
   "metadata": {},
   "outputs": [
    {
     "data": {
      "text/plain": [
       "(12267, 6)"
      ]
     },
     "execution_count": 40,
     "metadata": {},
     "output_type": "execute_result"
    }
   ],
   "source": [
    "x.shape"
   ]
  },
  {
   "cell_type": "code",
   "execution_count": 41,
   "metadata": {},
   "outputs": [
    {
     "data": {
      "text/plain": [
       "(12267,)"
      ]
     },
     "execution_count": 41,
     "metadata": {},
     "output_type": "execute_result"
    }
   ],
   "source": [
    "y.shape"
   ]
  },
  {
   "cell_type": "markdown",
   "metadata": {},
   "source": [
    "# Model Building"
   ]
  },
  {
   "cell_type": "code",
   "execution_count": 42,
   "metadata": {},
   "outputs": [],
   "source": [
    "from sklearn.linear_model import LinearRegression\n",
    "from sklearn.model_selection import cross_val_score,train_test_split\n",
    "from sklearn.preprocessing import StandardScaler\n",
    "from sklearn.metrics import r2_score,mean_absolute_error,mean_squared_error"
   ]
  },
  {
   "cell_type": "code",
   "execution_count": 43,
   "metadata": {},
   "outputs": [],
   "source": [
    "x_train, x_test, y_train, y_test = train_test_split(x,y,test_size=0.2,random_state=42)"
   ]
  },
  {
   "cell_type": "code",
   "execution_count": 44,
   "metadata": {},
   "outputs": [],
   "source": [
    "#feature scaling\n",
    "#scaling the data\n",
    "sc=StandardScaler()\n",
    "x_train=sc.fit_transform(x_train)\n",
    "x_test=sc.fit_transform(x_test)"
   ]
  },
  {
   "cell_type": "code",
   "execution_count": 45,
   "metadata": {},
   "outputs": [
    {
     "name": "stdout",
     "output_type": "stream",
     "text": [
      "r2 score: 0.3047657485361155\n",
      "mean squared error: 44.617788481438424\n",
      "RSME: 6.6796548175364885\n"
     ]
    }
   ],
   "source": [
    "#checking scoring for LinearRegression model\n",
    "lr=LinearRegression()\n",
    "lr.fit(x_train,y_train)\n",
    "pred=lr.predict(x_test)\n",
    "print(\"r2 score:\",r2_score(y_test,pred))\n",
    "print(\"mean squared error:\",mean_squared_error(y_test,pred))\n",
    "print(\"RSME:\",np.sqrt(mean_squared_error(y_test,pred)))"
   ]
  },
  {
   "cell_type": "code",
   "execution_count": 46,
   "metadata": {},
   "outputs": [
    {
     "name": "stdout",
     "output_type": "stream",
     "text": [
      "r2 score: 0.36072819507240916\n",
      "mean squared error: 41.026307484633904\n",
      "RSME: 6.405178177430656\n"
     ]
    }
   ],
   "source": [
    "#checking scoring for DecisionTreeRegressor model\n",
    "from sklearn.tree import DecisionTreeRegressor\n",
    "dtc=DecisionTreeRegressor()\n",
    "dtc.fit(x_train,y_train)\n",
    "predd=dtc.predict(x_test)\n",
    "print(\"r2 score:\",r2_score(y_test,predd))\n",
    "print(\"mean squared error:\",mean_squared_error(y_test,predd))\n",
    "print(\"RSME:\",np.sqrt(mean_squared_error(y_test,predd)))"
   ]
  },
  {
   "cell_type": "code",
   "execution_count": 47,
   "metadata": {},
   "outputs": [
    {
     "name": "stdout",
     "output_type": "stream",
     "text": [
      "r2 score: 0.6775089127656466\n",
      "mean squared error: 20.696389867263246\n",
      "RSME: 4.549328507292395\n"
     ]
    }
   ],
   "source": [
    "#checking scoring for Random Forest Regressor model\n",
    "from sklearn.ensemble import RandomForestRegressor\n",
    "rfr=RandomForestRegressor()\n",
    "rfr.fit(x_train,y_train)\n",
    "y_pred=rfr.predict(x_test)\n",
    "print(\"r2 score:\",r2_score(y_test,y_pred))\n",
    "print(\"mean squared error:\",mean_squared_error(y_test,y_pred))\n",
    "print(\"RSME:\",np.sqrt(mean_squared_error(y_test,y_pred)))"
   ]
  },
  {
   "cell_type": "code",
   "execution_count": 48,
   "metadata": {},
   "outputs": [
    {
     "name": "stdout",
     "output_type": "stream",
     "text": [
      "[0.69506933 0.67763251 0.68475786 0.67794931 0.71310792]\n",
      "0.6897033847441303 0.013303294306476844\n"
     ]
    }
   ],
   "source": [
    "from sklearn.model_selection import cross_val_score\n",
    "rfrscores=cross_val_score(rfr,x,y,cv=5)\n",
    "print(rfrscores)\n",
    "print(rfrscores.mean(),rfrscores.std())"
   ]
  },
  {
   "cell_type": "markdown",
   "metadata": {},
   "source": [
    "As cross validation score and r2 score is nearly same for random forest so lets find best parameters to improve score"
   ]
  },
  {
   "cell_type": "markdown",
   "metadata": {},
   "source": [
    "# Hyper parameter tunning"
   ]
  },
  {
   "cell_type": "code",
   "execution_count": 49,
   "metadata": {},
   "outputs": [
    {
     "name": "stdout",
     "output_type": "stream",
     "text": [
      "[100, 200, 300, 400, 500, 600, 700, 800, 900, 1000, 1100, 1200]\n"
     ]
    }
   ],
   "source": [
    "#Hyper parameter tunning\n",
    "import numpy as np\n",
    "n_estimators=[int(x) for x in np.linspace(start=100,stop=1200,num=12)]\n",
    "print(n_estimators)\n",
    "from sklearn.model_selection import RandomizedSearchCV\n",
    "# randomized search cv\n",
    "#no. of trees in random forest\n",
    "n_estimators=[int(x) for x in np.linspace(start=100,stop=1200,num=12)]\n",
    "#no. of feature consider at every split\n",
    "max_features=['auto','sqrt']\n",
    "# max. no. of levels in tree\n",
    "max_depth=[int(x) for x in np.linspace(5,30,num=6)]\n",
    "#max_depth.append(None)\n",
    "#Minimum no. of samples required to split a node\n",
    "min_sample_split=[2,5,10,15,100]\n",
    "#minimum no. of samples required at each leaf node\n",
    "min_samples_leaf=[1,2,5,10]"
   ]
  },
  {
   "cell_type": "code",
   "execution_count": 50,
   "metadata": {},
   "outputs": [],
   "source": [
    "# create the random grid\n",
    "random_grid={'n_estimators':n_estimators,\n",
    "             'max_features':max_features,\n",
    "             'max_depth':max_depth,\n",
    "             'min_samples_split':min_sample_split,\n",
    "             'min_samples_leaf':min_samples_leaf\n",
    "              }"
   ]
  },
  {
   "cell_type": "code",
   "execution_count": 51,
   "metadata": {},
   "outputs": [],
   "source": [
    "rf_random=RandomizedSearchCV(estimator=rfr,param_distributions=random_grid,scoring='r2',n_iter=10,cv=5,verbose=2,random_state=42,n_jobs=1)"
   ]
  },
  {
   "cell_type": "code",
   "execution_count": 52,
   "metadata": {},
   "outputs": [
    {
     "name": "stdout",
     "output_type": "stream",
     "text": [
      "Fitting 5 folds for each of 10 candidates, totalling 50 fits\n",
      "[CV] n_estimators=900, min_samples_split=5, min_samples_leaf=5, max_features=sqrt, max_depth=10 \n"
     ]
    },
    {
     "name": "stderr",
     "output_type": "stream",
     "text": [
      "[Parallel(n_jobs=1)]: Using backend SequentialBackend with 1 concurrent workers.\n"
     ]
    },
    {
     "name": "stdout",
     "output_type": "stream",
     "text": [
      "[CV]  n_estimators=900, min_samples_split=5, min_samples_leaf=5, max_features=sqrt, max_depth=10, total=  28.9s\n",
      "[CV] n_estimators=900, min_samples_split=5, min_samples_leaf=5, max_features=sqrt, max_depth=10 \n"
     ]
    },
    {
     "name": "stderr",
     "output_type": "stream",
     "text": [
      "[Parallel(n_jobs=1)]: Done   1 out of   1 | elapsed:   28.8s remaining:    0.0s\n"
     ]
    },
    {
     "name": "stdout",
     "output_type": "stream",
     "text": [
      "[CV]  n_estimators=900, min_samples_split=5, min_samples_leaf=5, max_features=sqrt, max_depth=10, total=  28.7s\n",
      "[CV] n_estimators=900, min_samples_split=5, min_samples_leaf=5, max_features=sqrt, max_depth=10 \n",
      "[CV]  n_estimators=900, min_samples_split=5, min_samples_leaf=5, max_features=sqrt, max_depth=10, total=  26.8s\n",
      "[CV] n_estimators=900, min_samples_split=5, min_samples_leaf=5, max_features=sqrt, max_depth=10 \n",
      "[CV]  n_estimators=900, min_samples_split=5, min_samples_leaf=5, max_features=sqrt, max_depth=10, total=  28.5s\n",
      "[CV] n_estimators=900, min_samples_split=5, min_samples_leaf=5, max_features=sqrt, max_depth=10 \n",
      "[CV]  n_estimators=900, min_samples_split=5, min_samples_leaf=5, max_features=sqrt, max_depth=10, total=  28.6s\n",
      "[CV] n_estimators=1100, min_samples_split=10, min_samples_leaf=2, max_features=sqrt, max_depth=15 \n",
      "[CV]  n_estimators=1100, min_samples_split=10, min_samples_leaf=2, max_features=sqrt, max_depth=15, total=  45.7s\n",
      "[CV] n_estimators=1100, min_samples_split=10, min_samples_leaf=2, max_features=sqrt, max_depth=15 \n",
      "[CV]  n_estimators=1100, min_samples_split=10, min_samples_leaf=2, max_features=sqrt, max_depth=15, total=  45.5s\n",
      "[CV] n_estimators=1100, min_samples_split=10, min_samples_leaf=2, max_features=sqrt, max_depth=15 \n",
      "[CV]  n_estimators=1100, min_samples_split=10, min_samples_leaf=2, max_features=sqrt, max_depth=15, total=  33.9s\n",
      "[CV] n_estimators=1100, min_samples_split=10, min_samples_leaf=2, max_features=sqrt, max_depth=15 \n",
      "[CV]  n_estimators=1100, min_samples_split=10, min_samples_leaf=2, max_features=sqrt, max_depth=15, total=  36.8s\n",
      "[CV] n_estimators=1100, min_samples_split=10, min_samples_leaf=2, max_features=sqrt, max_depth=15 \n",
      "[CV]  n_estimators=1100, min_samples_split=10, min_samples_leaf=2, max_features=sqrt, max_depth=15, total=  44.6s\n",
      "[CV] n_estimators=300, min_samples_split=100, min_samples_leaf=5, max_features=auto, max_depth=15 \n",
      "[CV]  n_estimators=300, min_samples_split=100, min_samples_leaf=5, max_features=auto, max_depth=15, total=  19.8s\n",
      "[CV] n_estimators=300, min_samples_split=100, min_samples_leaf=5, max_features=auto, max_depth=15 \n",
      "[CV]  n_estimators=300, min_samples_split=100, min_samples_leaf=5, max_features=auto, max_depth=15, total=  21.8s\n",
      "[CV] n_estimators=300, min_samples_split=100, min_samples_leaf=5, max_features=auto, max_depth=15 \n",
      "[CV]  n_estimators=300, min_samples_split=100, min_samples_leaf=5, max_features=auto, max_depth=15, total=  20.1s\n",
      "[CV] n_estimators=300, min_samples_split=100, min_samples_leaf=5, max_features=auto, max_depth=15 \n",
      "[CV]  n_estimators=300, min_samples_split=100, min_samples_leaf=5, max_features=auto, max_depth=15, total=  20.0s\n",
      "[CV] n_estimators=300, min_samples_split=100, min_samples_leaf=5, max_features=auto, max_depth=15 \n",
      "[CV]  n_estimators=300, min_samples_split=100, min_samples_leaf=5, max_features=auto, max_depth=15, total=  17.7s\n",
      "[CV] n_estimators=400, min_samples_split=5, min_samples_leaf=5, max_features=auto, max_depth=15 \n",
      "[CV]  n_estimators=400, min_samples_split=5, min_samples_leaf=5, max_features=auto, max_depth=15, total=  30.7s\n",
      "[CV] n_estimators=400, min_samples_split=5, min_samples_leaf=5, max_features=auto, max_depth=15 \n",
      "[CV]  n_estimators=400, min_samples_split=5, min_samples_leaf=5, max_features=auto, max_depth=15, total=  33.1s\n",
      "[CV] n_estimators=400, min_samples_split=5, min_samples_leaf=5, max_features=auto, max_depth=15 \n",
      "[CV]  n_estimators=400, min_samples_split=5, min_samples_leaf=5, max_features=auto, max_depth=15, total=  36.3s\n",
      "[CV] n_estimators=400, min_samples_split=5, min_samples_leaf=5, max_features=auto, max_depth=15 \n",
      "[CV]  n_estimators=400, min_samples_split=5, min_samples_leaf=5, max_features=auto, max_depth=15, total=  34.2s\n",
      "[CV] n_estimators=400, min_samples_split=5, min_samples_leaf=5, max_features=auto, max_depth=15 \n",
      "[CV]  n_estimators=400, min_samples_split=5, min_samples_leaf=5, max_features=auto, max_depth=15, total=  37.0s\n",
      "[CV] n_estimators=700, min_samples_split=5, min_samples_leaf=10, max_features=auto, max_depth=20 \n",
      "[CV]  n_estimators=700, min_samples_split=5, min_samples_leaf=10, max_features=auto, max_depth=20, total=  53.1s\n",
      "[CV] n_estimators=700, min_samples_split=5, min_samples_leaf=10, max_features=auto, max_depth=20 \n",
      "[CV]  n_estimators=700, min_samples_split=5, min_samples_leaf=10, max_features=auto, max_depth=20, total=  49.8s\n",
      "[CV] n_estimators=700, min_samples_split=5, min_samples_leaf=10, max_features=auto, max_depth=20 \n",
      "[CV]  n_estimators=700, min_samples_split=5, min_samples_leaf=10, max_features=auto, max_depth=20, total=  51.4s\n",
      "[CV] n_estimators=700, min_samples_split=5, min_samples_leaf=10, max_features=auto, max_depth=20 \n",
      "[CV]  n_estimators=700, min_samples_split=5, min_samples_leaf=10, max_features=auto, max_depth=20, total=  56.4s\n",
      "[CV] n_estimators=700, min_samples_split=5, min_samples_leaf=10, max_features=auto, max_depth=20 \n",
      "[CV]  n_estimators=700, min_samples_split=5, min_samples_leaf=10, max_features=auto, max_depth=20, total=  56.6s\n",
      "[CV] n_estimators=1000, min_samples_split=2, min_samples_leaf=1, max_features=sqrt, max_depth=25 \n",
      "[CV]  n_estimators=1000, min_samples_split=2, min_samples_leaf=1, max_features=sqrt, max_depth=25, total=  56.7s\n",
      "[CV] n_estimators=1000, min_samples_split=2, min_samples_leaf=1, max_features=sqrt, max_depth=25 \n",
      "[CV]  n_estimators=1000, min_samples_split=2, min_samples_leaf=1, max_features=sqrt, max_depth=25, total=  57.6s\n",
      "[CV] n_estimators=1000, min_samples_split=2, min_samples_leaf=1, max_features=sqrt, max_depth=25 \n",
      "[CV]  n_estimators=1000, min_samples_split=2, min_samples_leaf=1, max_features=sqrt, max_depth=25, total= 1.0min\n",
      "[CV] n_estimators=1000, min_samples_split=2, min_samples_leaf=1, max_features=sqrt, max_depth=25 \n",
      "[CV]  n_estimators=1000, min_samples_split=2, min_samples_leaf=1, max_features=sqrt, max_depth=25, total=  58.5s\n",
      "[CV] n_estimators=1000, min_samples_split=2, min_samples_leaf=1, max_features=sqrt, max_depth=25 \n",
      "[CV]  n_estimators=1000, min_samples_split=2, min_samples_leaf=1, max_features=sqrt, max_depth=25, total=  52.2s\n",
      "[CV] n_estimators=1100, min_samples_split=15, min_samples_leaf=10, max_features=sqrt, max_depth=5 \n",
      "[CV]  n_estimators=1100, min_samples_split=15, min_samples_leaf=10, max_features=sqrt, max_depth=5, total=  17.8s\n",
      "[CV] n_estimators=1100, min_samples_split=15, min_samples_leaf=10, max_features=sqrt, max_depth=5 \n",
      "[CV]  n_estimators=1100, min_samples_split=15, min_samples_leaf=10, max_features=sqrt, max_depth=5, total=  17.8s\n",
      "[CV] n_estimators=1100, min_samples_split=15, min_samples_leaf=10, max_features=sqrt, max_depth=5 \n",
      "[CV]  n_estimators=1100, min_samples_split=15, min_samples_leaf=10, max_features=sqrt, max_depth=5, total=  19.8s\n",
      "[CV] n_estimators=1100, min_samples_split=15, min_samples_leaf=10, max_features=sqrt, max_depth=5 \n",
      "[CV]  n_estimators=1100, min_samples_split=15, min_samples_leaf=10, max_features=sqrt, max_depth=5, total=  17.7s\n",
      "[CV] n_estimators=1100, min_samples_split=15, min_samples_leaf=10, max_features=sqrt, max_depth=5 \n",
      "[CV]  n_estimators=1100, min_samples_split=15, min_samples_leaf=10, max_features=sqrt, max_depth=5, total=  19.6s\n",
      "[CV] n_estimators=300, min_samples_split=15, min_samples_leaf=1, max_features=sqrt, max_depth=15 \n",
      "[CV]  n_estimators=300, min_samples_split=15, min_samples_leaf=1, max_features=sqrt, max_depth=15, total=   9.4s\n",
      "[CV] n_estimators=300, min_samples_split=15, min_samples_leaf=1, max_features=sqrt, max_depth=15 \n",
      "[CV]  n_estimators=300, min_samples_split=15, min_samples_leaf=1, max_features=sqrt, max_depth=15, total=   9.7s\n",
      "[CV] n_estimators=300, min_samples_split=15, min_samples_leaf=1, max_features=sqrt, max_depth=15 \n",
      "[CV]  n_estimators=300, min_samples_split=15, min_samples_leaf=1, max_features=sqrt, max_depth=15, total=   9.4s\n",
      "[CV] n_estimators=300, min_samples_split=15, min_samples_leaf=1, max_features=sqrt, max_depth=15 \n",
      "[CV]  n_estimators=300, min_samples_split=15, min_samples_leaf=1, max_features=sqrt, max_depth=15, total=   9.4s\n",
      "[CV] n_estimators=300, min_samples_split=15, min_samples_leaf=1, max_features=sqrt, max_depth=15 \n",
      "[CV]  n_estimators=300, min_samples_split=15, min_samples_leaf=1, max_features=sqrt, max_depth=15, total=   9.1s\n",
      "[CV] n_estimators=700, min_samples_split=10, min_samples_leaf=2, max_features=sqrt, max_depth=5 \n",
      "[CV]  n_estimators=700, min_samples_split=10, min_samples_leaf=2, max_features=sqrt, max_depth=5, total=  11.7s\n",
      "[CV] n_estimators=700, min_samples_split=10, min_samples_leaf=2, max_features=sqrt, max_depth=5 \n",
      "[CV]  n_estimators=700, min_samples_split=10, min_samples_leaf=2, max_features=sqrt, max_depth=5, total=  14.2s\n",
      "[CV] n_estimators=700, min_samples_split=10, min_samples_leaf=2, max_features=sqrt, max_depth=5 \n",
      "[CV]  n_estimators=700, min_samples_split=10, min_samples_leaf=2, max_features=sqrt, max_depth=5, total=  14.9s\n",
      "[CV] n_estimators=700, min_samples_split=10, min_samples_leaf=2, max_features=sqrt, max_depth=5 \n",
      "[CV]  n_estimators=700, min_samples_split=10, min_samples_leaf=2, max_features=sqrt, max_depth=5, total=  13.9s\n",
      "[CV] n_estimators=700, min_samples_split=10, min_samples_leaf=2, max_features=sqrt, max_depth=5 \n",
      "[CV]  n_estimators=700, min_samples_split=10, min_samples_leaf=2, max_features=sqrt, max_depth=5, total=  11.9s\n",
      "[CV] n_estimators=700, min_samples_split=15, min_samples_leaf=1, max_features=auto, max_depth=20 \n",
      "[CV]  n_estimators=700, min_samples_split=15, min_samples_leaf=1, max_features=auto, max_depth=20, total= 1.1min\n",
      "[CV] n_estimators=700, min_samples_split=15, min_samples_leaf=1, max_features=auto, max_depth=20 \n",
      "[CV]  n_estimators=700, min_samples_split=15, min_samples_leaf=1, max_features=auto, max_depth=20, total=  59.7s\n",
      "[CV] n_estimators=700, min_samples_split=15, min_samples_leaf=1, max_features=auto, max_depth=20 \n",
      "[CV]  n_estimators=700, min_samples_split=15, min_samples_leaf=1, max_features=auto, max_depth=20, total=  59.2s\n",
      "[CV] n_estimators=700, min_samples_split=15, min_samples_leaf=1, max_features=auto, max_depth=20 \n",
      "[CV]  n_estimators=700, min_samples_split=15, min_samples_leaf=1, max_features=auto, max_depth=20, total=  58.0s\n",
      "[CV] n_estimators=700, min_samples_split=15, min_samples_leaf=1, max_features=auto, max_depth=20 \n",
      "[CV]  n_estimators=700, min_samples_split=15, min_samples_leaf=1, max_features=auto, max_depth=20, total=  59.6s\n"
     ]
    },
    {
     "name": "stderr",
     "output_type": "stream",
     "text": [
      "[Parallel(n_jobs=1)]: Done  50 out of  50 | elapsed: 28.0min finished\n"
     ]
    },
    {
     "data": {
      "text/plain": [
       "RandomizedSearchCV(cv=5, error_score=nan,\n",
       "                   estimator=RandomForestRegressor(bootstrap=True,\n",
       "                                                   ccp_alpha=0.0,\n",
       "                                                   criterion='mse',\n",
       "                                                   max_depth=None,\n",
       "                                                   max_features='auto',\n",
       "                                                   max_leaf_nodes=None,\n",
       "                                                   max_samples=None,\n",
       "                                                   min_impurity_decrease=0.0,\n",
       "                                                   min_impurity_split=None,\n",
       "                                                   min_samples_leaf=1,\n",
       "                                                   min_samples_split=2,\n",
       "                                                   min_weight_fraction_leaf=0.0,\n",
       "                                                   n_estimators=100,\n",
       "                                                   n_jobs=None, oob_score=Fals...\n",
       "                   iid='deprecated', n_iter=10, n_jobs=1,\n",
       "                   param_distributions={'max_depth': [5, 10, 15, 20, 25, 30],\n",
       "                                        'max_features': ['auto', 'sqrt'],\n",
       "                                        'min_samples_leaf': [1, 2, 5, 10],\n",
       "                                        'min_samples_split': [2, 5, 10, 15,\n",
       "                                                              100],\n",
       "                                        'n_estimators': [100, 200, 300, 400,\n",
       "                                                         500, 600, 700, 800,\n",
       "                                                         900, 1000, 1100,\n",
       "                                                         1200]},\n",
       "                   pre_dispatch='2*n_jobs', random_state=42, refit=True,\n",
       "                   return_train_score=False, scoring='r2', verbose=2)"
      ]
     },
     "execution_count": 52,
     "metadata": {},
     "output_type": "execute_result"
    }
   ],
   "source": [
    "rf_random.fit(x_train,y_train)"
   ]
  },
  {
   "cell_type": "code",
   "execution_count": 53,
   "metadata": {},
   "outputs": [],
   "source": [
    "predictions=rf_random.predict(x_test)"
   ]
  },
  {
   "cell_type": "code",
   "execution_count": 54,
   "metadata": {},
   "outputs": [
    {
     "data": {
      "text/plain": [
       "0.6901035700824416"
      ]
     },
     "execution_count": 54,
     "metadata": {},
     "output_type": "execute_result"
    }
   ],
   "source": [
    "rf_random.best_score_"
   ]
  },
  {
   "cell_type": "code",
   "execution_count": 55,
   "metadata": {},
   "outputs": [
    {
     "data": {
      "text/plain": [
       "{'n_estimators': 700,\n",
       " 'min_samples_split': 15,\n",
       " 'min_samples_leaf': 1,\n",
       " 'max_features': 'auto',\n",
       " 'max_depth': 20}"
      ]
     },
     "execution_count": 55,
     "metadata": {},
     "output_type": "execute_result"
    }
   ],
   "source": [
    "rf_random.best_params_"
   ]
  },
  {
   "cell_type": "code",
   "execution_count": 56,
   "metadata": {},
   "outputs": [
    {
     "data": {
      "text/plain": [
       "['restaurant_cost.pkl']"
      ]
     },
     "execution_count": 56,
     "metadata": {},
     "output_type": "execute_result"
    }
   ],
   "source": [
    "#Lets save this model\n",
    "from sklearn.externals import joblib\n",
    "joblib.dump(rf_random,'restaurant_cost.pkl')"
   ]
  }
 ],
 "metadata": {
  "kernelspec": {
   "display_name": "Python 3",
   "language": "python",
   "name": "python3"
  },
  "language_info": {
   "codemirror_mode": {
    "name": "ipython",
    "version": 3
   },
   "file_extension": ".py",
   "mimetype": "text/x-python",
   "name": "python",
   "nbconvert_exporter": "python",
   "pygments_lexer": "ipython3",
   "version": "3.7.6"
  }
 },
 "nbformat": 4,
 "nbformat_minor": 4
}
